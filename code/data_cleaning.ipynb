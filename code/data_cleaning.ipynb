{
 "cells": [
  {
   "cell_type": "code",
   "execution_count": 1,
   "metadata": {},
   "outputs": [],
   "source": [
    "import numpy as np\n",
    "import pandas as pd\n",
    "import bs4\n",
    "from bs4 import BeautifulSoup\n",
    "import requests"
   ]
  },
  {
   "cell_type": "markdown",
   "metadata": {},
   "source": [
    "# ATTEMPTING K-DRAMA"
   ]
  },
  {
   "cell_type": "code",
   "execution_count": 18,
   "metadata": {},
   "outputs": [],
   "source": [
    "# URL to scrape\n",
    "url = 'https://mydramalist.com/shows/top?page=1'\n",
    "\n",
    "# Send a GET request to the URL\n",
    "response = requests.get(url)\n",
    "\n",
    "# Parse the HTML content using BeautifulSoup\n",
    "soup = BeautifulSoup(response.content, 'html.parser')"
   ]
  },
  {
   "cell_type": "code",
   "execution_count": 27,
   "metadata": {},
   "outputs": [],
   "source": [
    "# SHOW TITLES\n",
    "titles = []\n",
    "show_titles = soup.find_all('h6', class_='text-primary')\n",
    "for title in show_titles:\n",
    "    title = title.text.strip()\n",
    "    titles.append(title)\n",
    "\n",
    "# SHOW YEARS\n",
    "years = []\n",
    "show_years = soup.find_all('span', class_='text-muted')\n",
    "for year in show_years:\n",
    "    year = year.text.strip()\n",
    "    years.append(year)\n",
    "\n",
    "# EPISODES\n",
    "\n",
    "# COUNTRY\n",
    "\n",
    "\n",
    "# SHOW SCORES\n",
    "scores = []\n",
    "show_scores = soup.find_all('span', class_='score')\n",
    "for score in show_scores:\n",
    "    score = score.text.strip()\n",
    "    scores.append(score)\n",
    "\n",
    "# SHOW RANKS\n",
    "ranks = []\n",
    "show_rank = soup.find_all('div', class_='ranking pull-right')\n",
    "for rank in show_rank:\n",
    "    rank = rank.text.strip()\n",
    "    ranks.append(rank)\n"
   ]
  },
  {
   "cell_type": "code",
   "execution_count": null,
   "metadata": {},
   "outputs": [],
   "source": []
  },
  {
   "cell_type": "markdown",
   "metadata": {},
   "source": [
    "problem children: genre, content rating, "
   ]
  },
  {
   "cell_type": "code",
   "execution_count": null,
   "metadata": {},
   "outputs": [],
   "source": []
  },
  {
   "cell_type": "code",
   "execution_count": 14,
   "metadata": {},
   "outputs": [],
   "source": [
    "# Find the elements containing the content ratings\n",
    "ratings = soup.find_all('span', class_='text-primary-dark')\n",
    "\n",
    "# Extract and print the ratings\n",
    "for rating in ratings:\n",
    "    print(rating.text.strip())\n"
   ]
  },
  {
   "cell_type": "code",
   "execution_count": 16,
   "metadata": {},
   "outputs": [],
   "source": [
    "# Find the elements containing the genres\n",
    "genres = soup.find_all('span', class_='genre')\n",
    "\n",
    "# Extract and print the genres\n",
    "for genre in genres:\n",
    "    print(genre.text.strip())"
   ]
  },
  {
   "cell_type": "code",
   "execution_count": 15,
   "metadata": {},
   "outputs": [
    {
     "name": "stdout",
     "output_type": "stream",
     "text": [
      "NEW\n",
      "NEW\n",
      "Wanted\n",
      "NEW\n",
      "NEW\n",
      "NEW\n",
      "Wanted\n"
     ]
    }
   ],
   "source": [
    "# Find the elements containing the tags\n",
    "tags = soup.find_all('span', class_='tag')\n",
    "\n",
    "# Extract and print the tags\n",
    "for tag in tags:\n",
    "    print(tag.text.strip())"
   ]
  },
  {
   "cell_type": "code",
   "execution_count": 16,
   "metadata": {},
   "outputs": [],
   "source": [
    "# Find the elements containing the main cast\n",
    "cast_elements = soup.find_all('div', class_='text-primary')\n",
    "\n",
    "# Extract and print the main cast\n",
    "for cast_element in cast_elements:\n",
    "    cast = cast_element.text.strip()\n",
    "    print(cast)"
   ]
  },
  {
   "cell_type": "code",
   "execution_count": 24,
   "metadata": {},
   "outputs": [],
   "source": [
    "# Find the element containing the synopsis\n",
    "synopsis_elements = soup.find_all('div', class_='synopsis')\n",
    "\n",
    "# Extract and print the synopses\n",
    "for synopsis_element in synopsis_elements:\n",
    "    synopsis = synopsis_element.text.strip()\n",
    "    print(synopsis)"
   ]
  },
  {
   "cell_type": "code",
   "execution_count": null,
   "metadata": {},
   "outputs": [],
   "source": []
  },
  {
   "cell_type": "code",
   "execution_count": null,
   "metadata": {},
   "outputs": [],
   "source": []
  },
  {
   "cell_type": "code",
   "execution_count": null,
   "metadata": {},
   "outputs": [],
   "source": [
    "my_drama_list = pd.DataFrame({\n",
    "    \"title\": titles,\n",
    "    \"year\": years,\n",
    "    \"episodes\": episodes,\n",
    "    \"score\": scores,\n",
    "    \"rank\": ranks\n",
    "})\n",
    "\n",
    "df = pd.DataFrame(my_drama_list)\n",
    "df.to_csv(\"audio.books.csv\", index=False)"
   ]
  }
 ],
 "metadata": {
  "kernelspec": {
   "display_name": "new386",
   "language": "python",
   "name": "python3"
  },
  "language_info": {
   "codemirror_mode": {
    "name": "ipython",
    "version": 3
   },
   "file_extension": ".py",
   "mimetype": "text/x-python",
   "name": "python",
   "nbconvert_exporter": "python",
   "pygments_lexer": "ipython3",
   "version": "3.11.5"
  },
  "orig_nbformat": 4
 },
 "nbformat": 4,
 "nbformat_minor": 2
}
