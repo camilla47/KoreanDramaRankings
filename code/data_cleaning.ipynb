{
 "cells": [
  {
   "cell_type": "code",
   "execution_count": 6,
   "metadata": {},
   "outputs": [],
   "source": [
    "import numpy as np\n",
    "import pandas as pd\n",
    "import bs4\n",
    "from bs4 import BeautifulSoup\n",
    "import requests"
   ]
  },
  {
   "cell_type": "code",
   "execution_count": 3,
   "metadata": {},
   "outputs": [],
   "source": [
    "with open('../nasa_api.txt', 'r') as file:\n",
    "    apikey = file.read()\n",
    "# context manager 'with', 'r' means read\n",
    "\n",
    "# Headers/parameters\n",
    "headers = {\n",
    "    \"apikey\": apikey\n",
    "}"
   ]
  },
  {
   "cell_type": "markdown",
   "metadata": {},
   "source": [
    "#### Astronomy Picture of the Day"
   ]
  },
  {
   "cell_type": "code",
   "execution_count": 7,
   "metadata": {},
   "outputs": [
    {
     "name": "stdout",
     "output_type": "stream",
     "text": [
      "Title: Energetic Particle Strikes the Earth\n",
      "Date: 2023-12-05\n",
      "Explanation: It was one of the most energetic particles ever known to strike the Earth -- but where did it come from?  Dubbed Amaterasu after the Shinto sun goddess, this particle, as do all cosmic rays that strike the Earth's atmosphere, caused an air shower of electrons, protons, and other elementary particles to spray down onto the Earth below. In the featured illustration, a cosmic ray air shower is pictured striking the Telescope Array in Utah, USA, which recorded the Amaterasu event in 2021 May.  Cosmic ray air showers are common enough that you likely have been in a particle spray yourself, although you likely wouldn't have noticed.  The origin of this energetic particle, likely the nucleus of an atom, remains a mystery in two ways. First, it is not known how any single particle or atomic nucleus can practically acquire so much energy, and second, attempts to trace the particle back to where it originated did not indicate any likely potential source.    Open Science: Browse 3,200+ codes in the Astrophysics Source Code Library\n",
      "URL: https://apod.nasa.gov/apod/image/2312/Exaray_OsakaU_1080.jpg\n"
     ]
    }
   ],
   "source": [
    "# API endpoint for Astronomy Picture of the Day (APOD)\n",
    "url = f'https://api.nasa.gov/planetary/apod?api_key={apikey}'\n",
    "\n",
    "# Make a GET request to fetch the APOD data\n",
    "response = requests.get(url)\n",
    "\n",
    "if response.status_code == 200:\n",
    "    apod_data = response.json()\n",
    "    print(\"Title:\", apod_data['title'])\n",
    "    print(\"Date:\", apod_data['date'])\n",
    "    print(\"Explanation:\", apod_data['explanation'])\n",
    "    print(\"URL:\", apod_data['url'])\n",
    "else:\n",
    "    print(\"Failed to fetch data:\", response.status_code)"
   ]
  },
  {
   "cell_type": "markdown",
   "metadata": {},
   "source": [
    "#### Mars Rover Photo"
   ]
  },
  {
   "cell_type": "code",
   "execution_count": 10,
   "metadata": {},
   "outputs": [
    {
     "name": "stdout",
     "output_type": "stream",
     "text": [
      "Image: http://mars.jpl.nasa.gov/msl-raw-images/proj/msl/redops/ods/surface/sol/01000/opgs/edr/fcam/FLB_486265257EDR_F0481570FHAZ00323M_.JPG\n",
      "Earth Date: 2015-05-30\n"
     ]
    }
   ],
   "source": [
    "url = f'https://api.nasa.gov/mars-photos/api/v1/rovers/curiosity/photos?sol=1000&api_key={apikey}'\n",
    "\n",
    "response = requests.get(url)\n",
    "\n",
    "if response.status_code == 200:\n",
    "    rover_data = response.json()\n",
    "    photos = rover_data['photos']\n",
    "    if photos:\n",
    "        photo = photos[0]  # Fetching the first photo (index 0)\n",
    "        print(\"Image:\", photo['img_src'])\n",
    "        print(\"Earth Date:\", photo['earth_date'])\n",
    "    else:\n",
    "        print(\"No photos found for the given criteria.\")\n",
    "else:\n",
    "    print(\"Failed to fetch data:\", response.status_code)\n"
   ]
  }
 ],
 "metadata": {
  "kernelspec": {
   "display_name": "new386",
   "language": "python",
   "name": "python3"
  },
  "language_info": {
   "codemirror_mode": {
    "name": "ipython",
    "version": 3
   },
   "file_extension": ".py",
   "mimetype": "text/x-python",
   "name": "python",
   "nbconvert_exporter": "python",
   "pygments_lexer": "ipython3",
   "version": "3.11.5"
  },
  "orig_nbformat": 4
 },
 "nbformat": 4,
 "nbformat_minor": 2
}
