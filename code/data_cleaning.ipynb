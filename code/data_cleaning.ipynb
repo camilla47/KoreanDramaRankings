{
 "cells": [
  {
   "cell_type": "code",
   "execution_count": 2,
   "metadata": {},
   "outputs": [],
   "source": [
    "import numpy as np\n",
    "import pandas as pd\n",
    "import bs4\n",
    "from bs4 import BeautifulSoup\n",
    "import requests\n",
    "import re\n",
    "import os\n",
    "\n",
    "from bsoup_scrape import bsoup_scrape_data\n",
    "from selenium_scrape import scrape_page2"
   ]
  },
  {
   "cell_type": "code",
   "execution_count": 2,
   "metadata": {},
   "outputs": [],
   "source": [
    "titles = []\n",
    "years = []\n",
    "episodes = []\n",
    "countries = []\n",
    "scores = []\n",
    "ranks = []\n",
    "\n",
    "titles_p2 = []\n",
    "genres = []\n",
    "network = []\n",
    "watchers = []"
   ]
  },
  {
   "cell_type": "markdown",
   "metadata": {},
   "source": [
    "# Part 1 - Beautiful Soup\n",
    "\n",
    "This section of code will use beautiful soup to scrape everything shown on the first page (the one listing all the titles)"
   ]
  },
  {
   "cell_type": "code",
   "execution_count": 42,
   "metadata": {},
   "outputs": [],
   "source": [
    "# URL to scrape\n",
    "url_base = 'https://mydramalist.com/shows/top?page='\n",
    "page_number = \"27\"\n",
    "url = url_base+page_number\n",
    "# Send a GET request to the URL\n",
    "response = requests.get(url)\n",
    "# Parse the HTML content using BeautifulSoup\n",
    "soup = BeautifulSoup(response.content, 'html.parser')\n",
    "\n",
    "bsoup_scrape_data(titles, years, episodes, countries, scores, ranks, soup)\n",
    "\n",
    "my_drama_list = pd.DataFrame({\n",
    "    \"title\": titles,\n",
    "    \"year\": years,\n",
    "    \"episodes\": episodes,\n",
    "    \"country\": countries,\n",
    "    \"viewer_score\": scores,\n",
    "    \"rank\": ranks\n",
    "})\n",
    "soup_scrape = pd.DataFrame(my_drama_list)\n",
    "\n",
    "#if the csv file already exists, delete it\n",
    "#if os.path.exists(\"msoup_scrapedl.csv\"):\n",
    "   #os.remove(\"soup_scrape.csv\")\n",
    "\n",
    "# soup_scrape.to_csv(\"combined_soup.csv\", index=False) #commenting this out so I don't accidentally delete it again"
   ]
  },
  {
   "cell_type": "markdown",
   "metadata": {},
   "source": [
    "# Part 2 - Selenium\n",
    "\n",
    "This section of the code will use selenium to click through each title page and scrape additional elements"
   ]
  },
  {
   "cell_type": "code",
   "execution_count": null,
   "metadata": {},
   "outputs": [],
   "source": []
  },
  {
   "cell_type": "code",
   "execution_count": 3,
   "metadata": {},
   "outputs": [
    {
     "name": "stdout",
     "output_type": "stream",
     "text": [
      "timeout error- getting url\n",
      "Time and Him Are Just Right\n",
      "Genre not found\n",
      "No elements with 'original network' text found\n"
     ]
    },
    {
     "ename": "IndexError",
     "evalue": "list index out of range",
     "output_type": "error",
     "traceback": [
      "\u001b[0;31m---------------------------------------------------------------------------\u001b[0m",
      "\u001b[0;31mIndexError\u001b[0m                                Traceback (most recent call last)",
      "Cell \u001b[0;32mIn[3], line 2\u001b[0m\n\u001b[1;32m      1\u001b[0m url \u001b[39m=\u001b[39m \u001b[39m'\u001b[39m\u001b[39mhttps://mydramalist.com/shows/top?page=14\u001b[39m\u001b[39m'\u001b[39m\n\u001b[0;32m----> 2\u001b[0m scrape_page2(titles_p2, genres, watchers, network, url)\n\u001b[1;32m      4\u001b[0m selenium_scrape \u001b[39m=\u001b[39m pd\u001b[39m.\u001b[39mDataFrame({\n\u001b[1;32m      5\u001b[0m     \u001b[39m\"\u001b[39m\u001b[39mtitle\u001b[39m\u001b[39m\"\u001b[39m: titles_p2,\n\u001b[1;32m      6\u001b[0m     \u001b[39m\"\u001b[39m\u001b[39mgenres\u001b[39m\u001b[39m\"\u001b[39m: genres,\n\u001b[1;32m      7\u001b[0m     \u001b[39m\"\u001b[39m\u001b[39mnetwork\u001b[39m\u001b[39m\"\u001b[39m: network,\n\u001b[1;32m      8\u001b[0m     \u001b[39m\"\u001b[39m\u001b[39mwatchers\u001b[39m\u001b[39m\"\u001b[39m: watchers,\n\u001b[1;32m      9\u001b[0m })\n\u001b[1;32m     10\u001b[0m ss_df14 \u001b[39m=\u001b[39m pd\u001b[39m.\u001b[39mDataFrame(selenium_scrape)\n",
      "File \u001b[0;32m~/Desktop/StatClasses/stat386/termProject/termProject/code/selenium_scrape.py:84\u001b[0m, in \u001b[0;36mscrape_page2\u001b[0;34m(titles, genres, watchers, network, url)\u001b[0m\n\u001b[1;32m     82\u001b[0m \u001b[39mtry\u001b[39;00m:\n\u001b[1;32m     83\u001b[0m     genres_elements \u001b[39m=\u001b[39m driver\u001b[39m.\u001b[39mfind_elements(By\u001b[39m.\u001b[39mCLASS_NAME, \u001b[39m\"\u001b[39m\u001b[39mhfs\u001b[39m\u001b[39m\"\u001b[39m)\n\u001b[0;32m---> 84\u001b[0m     watcher_int \u001b[39m=\u001b[39m \u001b[39mint\u001b[39m(genres_elements[\u001b[39m1\u001b[39m]\u001b[39m.\u001b[39mtext\u001b[39m.\u001b[39msplit(\u001b[39m'\u001b[39m\u001b[39m \u001b[39m\u001b[39m'\u001b[39m)[\u001b[39m-\u001b[39m\u001b[39m1\u001b[39m]\u001b[39m.\u001b[39mreplace(\u001b[39m'\u001b[39m\u001b[39m,\u001b[39m\u001b[39m'\u001b[39m, \u001b[39m'\u001b[39m\u001b[39m'\u001b[39m))\n\u001b[1;32m     85\u001b[0m     \u001b[39m#print(watcher_int)\u001b[39;00m\n\u001b[1;32m     86\u001b[0m     watchers\u001b[39m.\u001b[39mappend(watcher_int)\n",
      "\u001b[0;31mIndexError\u001b[0m: list index out of range"
     ]
    }
   ],
   "source": [
    "url = 'https://mydramalist.com/shows/top?page=15'\n",
    "scrape_page2(titles_p2, genres, watchers, network, url)\n",
    "\n",
    "selenium_scrape = pd.DataFrame({\n",
    "    \"title\": titles_p2,\n",
    "    \"genres\": genres,\n",
    "    \"network\": network,\n",
    "    \"watchers\": watchers,\n",
    "})\n",
    "ss_df15 = pd.DataFrame(selenium_scrape)\n",
    "ss_df15\n",
    "\n",
    "ss_df15.to_csv(\"ss_df15.csv\", index=False)"
   ]
  },
  {
   "cell_type": "markdown",
   "metadata": {},
   "source": [
    "## Merging The DataFrames\n",
    "This section of the code will merge the csv files created from part 1 and part 2"
   ]
  },
  {
   "cell_type": "code",
   "execution_count": 1,
   "metadata": {},
   "outputs": [],
   "source": [
    "# Read the CSV files\n",
    "import pandas as pd\n",
    "import os\n",
    "ss = pd.read_csv('combined_selenium.csv')\n",
    "ss19 = pd.read_csv('ss_df19.csv')\n",
    "ss20 = pd.read_csv('ss_df20.csv')\n",
    "ss21 = pd.read_csv('ss_df21.csv')\n",
    "ss22 = pd.read_csv('ss_df22.csv')\n",
    "ss23 = pd.read_csv('ss_df23.csv')\n",
    "ss24 = pd.read_csv('ss_df24.csv')\n",
    "ss25 = pd.read_csv('ss_df25.csv')\n",
    "ss26 = pd.read_csv('ss_df26.csv')\n",
    "\n",
    "\n",
    "# Combine the files\n",
    "selenium_mdl = pd.concat([ss, ss19, ss20, ss21, ss22, ss23, ss24,ss25,ss26])\n",
    "# if the csv file already exists, delete it\n",
    "if os.path.exists(\"combined_selenium.csv\"):\n",
    "    os.remove(\"combined_selenium.csv\")\n",
    "# Write the combined data to a new CSV file\n",
    "selenium_mdl.to_csv('combined_selenium.csv', index=False)\n"
   ]
  },
  {
   "cell_type": "markdown",
   "metadata": {},
   "source": [
    "merge the selenium and beautiful soup csv files"
   ]
  },
  {
   "cell_type": "code",
   "execution_count": 2,
   "metadata": {},
   "outputs": [],
   "source": [
    "soup = pd.read_csv('combined_soup.csv')\n",
    "sel = pd.read_csv('combined_selenium.csv')\n",
    "\n",
    "# Merge based on the 'title' column\n",
    "merged = pd.merge(soup, sel, on='title', how='inner') #'inner' keeps only matching rows\n",
    "\n",
    "# if the csv file already exists, delete it\n",
    "if os.path.exists(\"combined_mdl.csv\"):\n",
    "    os.remove(\"combined_mdl.csv\")\n",
    "\n",
    "# Write the merged data to a new CSV file\n",
    "merged.to_csv('combined_mdl.csv', index=False)"
   ]
  },
  {
   "cell_type": "markdown",
   "metadata": {},
   "source": [
    "## Polishing\n",
    "This section puts the finishing touches on the final csv file :D"
   ]
  },
  {
   "cell_type": "code",
   "execution_count": null,
   "metadata": {},
   "outputs": [],
   "source": []
  }
 ],
 "metadata": {
  "kernelspec": {
   "display_name": "new386",
   "language": "python",
   "name": "python3"
  },
  "language_info": {
   "codemirror_mode": {
    "name": "ipython",
    "version": 3
   },
   "file_extension": ".py",
   "mimetype": "text/x-python",
   "name": "python",
   "nbconvert_exporter": "python",
   "pygments_lexer": "ipython3",
   "version": "3.11.5"
  },
  "orig_nbformat": 4
 },
 "nbformat": 4,
 "nbformat_minor": 2
}
