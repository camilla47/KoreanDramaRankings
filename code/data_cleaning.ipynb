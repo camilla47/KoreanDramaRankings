{
 "cells": [
  {
   "cell_type": "code",
   "execution_count": 38,
   "metadata": {},
   "outputs": [],
   "source": [
    "import numpy as np\n",
    "import pandas as pd\n",
    "import bs4\n",
    "from bs4 import BeautifulSoup\n",
    "import requests\n",
    "import re\n",
    "import os\n",
    "\n",
    "from bsoup_scrape import bsoup_scrape_data"
   ]
  },
  {
   "cell_type": "markdown",
   "metadata": {},
   "source": [
    "# MDL Website"
   ]
  },
  {
   "cell_type": "code",
   "execution_count": 39,
   "metadata": {},
   "outputs": [],
   "source": [
    "titles = []\n",
    "years = []\n",
    "episodes = []\n",
    "countries = []\n",
    "scores = []\n",
    "ranks = []"
   ]
  },
  {
   "cell_type": "code",
   "execution_count": 68,
   "metadata": {},
   "outputs": [],
   "source": [
    "# URL to scrape\n",
    "url_base = 'https://mydramalist.com/shows/top?page='\n",
    "page_number = \"25\"\n",
    "url = url_base+page_number\n",
    "# Send a GET request to the URL\n",
    "response = requests.get(url)\n",
    "# Parse the HTML content using BeautifulSoup\n",
    "soup = BeautifulSoup(response.content, 'html.parser')\n",
    "\n",
    "bsoup_scrape_data(titles, years, episodes, countries, scores, ranks, soup)\n",
    "\n",
    "my_drama_list = pd.DataFrame({\n",
    "    \"title\": titles,\n",
    "    \"year\": years,\n",
    "    \"episodes\": episodes,\n",
    "    \"country\": countries,\n",
    "    \"viewer_score\": scores,\n",
    "    \"rank\": ranks\n",
    "})\n",
    "mdl = pd.DataFrame(my_drama_list)\n",
    "\n",
    "# if the csv file already exists, delete it\n",
    "if os.path.exists(\"mdl.csv\"):\n",
    "    os.remove(\"mdl.csv\")\n",
    "\n",
    "mdl.to_csv(\"mdl.csv\", index=False)"
   ]
  },
  {
   "cell_type": "code",
   "execution_count": 45,
   "metadata": {},
   "outputs": [],
   "source": [
    "bsoup_scrape_data(titles, years, episodes, countries, scores, ranks, soup)\n",
    "\n",
    "my_drama_list = pd.DataFrame({\n",
    "    \"title\": titles,\n",
    "    \"year\": years,\n",
    "    \"episodes\": episodes,\n",
    "    \"country\": countries,\n",
    "    \"viewer_score\": scores,\n",
    "    \"rank\": ranks\n",
    "})\n",
    "mdl = pd.DataFrame(my_drama_list)\n",
    "\n",
    "# if the csv file already exists, delete it\n",
    "if os.path.exists(\"mdl.csv\"):\n",
    "    os.remove(\"mdl.csv\")\n",
    "\n",
    "mdl.to_csv(\"mdl.csv\", index=False)"
   ]
  },
  {
   "cell_type": "code",
   "execution_count": null,
   "metadata": {},
   "outputs": [],
   "source": []
  },
  {
   "cell_type": "code",
   "execution_count": null,
   "metadata": {},
   "outputs": [],
   "source": []
  },
  {
   "cell_type": "code",
   "execution_count": null,
   "metadata": {},
   "outputs": [],
   "source": []
  },
  {
   "cell_type": "code",
   "execution_count": null,
   "metadata": {},
   "outputs": [],
   "source": []
  }
 ],
 "metadata": {
  "kernelspec": {
   "display_name": "new386",
   "language": "python",
   "name": "python3"
  },
  "language_info": {
   "codemirror_mode": {
    "name": "ipython",
    "version": 3
   },
   "file_extension": ".py",
   "mimetype": "text/x-python",
   "name": "python",
   "nbconvert_exporter": "python",
   "pygments_lexer": "ipython3",
   "version": "3.11.5"
  },
  "orig_nbformat": 4
 },
 "nbformat": 4,
 "nbformat_minor": 2
}
