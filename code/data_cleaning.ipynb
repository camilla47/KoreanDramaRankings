{
 "cells": [
  {
   "cell_type": "code",
   "execution_count": 2,
   "metadata": {},
   "outputs": [],
   "source": [
    "import numpy as np\n",
    "import pandas as pd\n",
    "import bs4\n",
    "from bs4 import BeautifulSoup\n",
    "import requests\n",
    "import re\n",
    "import os\n",
    "\n",
    "from bsoup_scrape import bsoup_scrape_data\n",
    "from selenium_scrape import scrape_page2"
   ]
  },
  {
   "cell_type": "code",
   "execution_count": 2,
   "metadata": {},
   "outputs": [],
   "source": [
    "# initialize lists for storing data\n",
    "titles = []\n",
    "years = []\n",
    "episodes = []\n",
    "countries = []\n",
    "scores = []\n",
    "ranks = []\n",
    "\n",
    "titles_p2 = []\n",
    "genres = []\n",
    "network = []\n",
    "watchers = []"
   ]
  },
  {
   "cell_type": "markdown",
   "metadata": {},
   "source": [
    "# Part 1 - Beautiful Soup\n",
    "\n",
    "This section of code will use beautiful soup to scrape everything shown on the first page (the one listing all the titles)"
   ]
  },
  {
   "cell_type": "code",
   "execution_count": 42,
   "metadata": {},
   "outputs": [],
   "source": [
    "# URL to scrape\n",
    "url_base = 'https://mydramalist.com/shows/top?page='\n",
    "page_number = \"27\"\n",
    "url = url_base+page_number\n",
    "# Send a GET request to the URL\n",
    "response = requests.get(url)\n",
    "# Parse the HTML content using BeautifulSoup\n",
    "soup = BeautifulSoup(response.content, 'html.parser')\n",
    "\n",
    "bsoup_scrape_data(titles, years, episodes, countries, scores, ranks, soup)\n",
    "\n",
    "my_drama_list = pd.DataFrame({\n",
    "    \"title\": titles,\n",
    "    \"year\": years,\n",
    "    \"episodes\": episodes,\n",
    "    \"country\": countries,\n",
    "    \"viewer_score\": scores,\n",
    "    \"rank\": ranks\n",
    "})\n",
    "soup_scrape = pd.DataFrame(my_drama_list)\n",
    "\n",
    "#if the csv file already exists, delete it\n",
    "#if os.path.exists(\"msoup_scrapedl.csv\"):\n",
    "   #os.remove(\"soup_scrape.csv\")\n",
    "\n",
    "# commenting this out so I don't accidentally delete it again\n",
    "# soup_scrape.to_csv(\"combined_soup.csv\", index=False) "
   ]
  },
  {
   "cell_type": "markdown",
   "metadata": {},
   "source": [
    "# Part 2 - Selenium\n",
    "\n",
    "This section of the code will use selenium to click through each title page and scrape additional elements.\n",
    "\n",
    "See selenium_notes.ipynb for this code"
   ]
  },
  {
   "cell_type": "code",
   "execution_count": 1,
   "metadata": {},
   "outputs": [],
   "source": [
    "import pandas as pd\n",
    "import os\n",
    "ss = pd.read_csv('combined_selenium.csv')\n",
    "ss19 = pd.read_csv('ss_df19.csv')\n",
    "ss20 = pd.read_csv('ss_df20.csv')\n",
    "ss21 = pd.read_csv('ss_df21.csv')\n",
    "ss22 = pd.read_csv('ss_df22.csv')\n",
    "ss23 = pd.read_csv('ss_df23.csv')\n",
    "ss24 = pd.read_csv('ss_df24.csv')\n",
    "ss25 = pd.read_csv('ss_df25.csv')\n",
    "ss26 = pd.read_csv('ss_df26.csv')\n",
    "\n",
    "# Combine the files\n",
    "selenium_mdl = pd.concat([ss, ss19, ss20, ss21, ss22, ss23, ss24,ss25,ss26])\n",
    "# if the csv file already exists, delete it\n",
    "if os.path.exists(\"combined_selenium.csv\"):\n",
    "    os.remove(\"combined_selenium.csv\")\n",
    "# Write the combined data to a new CSV file\n",
    "selenium_mdl.to_csv('combined_selenium.csv', index=False)"
   ]
  },
  {
   "cell_type": "markdown",
   "metadata": {},
   "source": [
    "## Part 3 - Merging The DataFrames\n",
    "This section of the code will merge the csv files created from part 1 and part 2"
   ]
  },
  {
   "cell_type": "code",
   "execution_count": 163,
   "metadata": {},
   "outputs": [],
   "source": [
    "soup = pd.read_csv('combined_soup.csv')\n",
    "sel = pd.read_csv('combined_selenium.csv')\n",
    "\n",
    "# Merge based on the 'title' column\n",
    "merged = pd.merge(soup, sel, on='title', how='inner') #'inner' keeps only matching rows\n",
    "\n",
    "# if the csv file already exists, delete it\n",
    "if os.path.exists(\"combined_mdl.csv\"):\n",
    "    os.remove(\"combined_mdl.csv\")\n",
    "\n",
    "# Write the merged data to a new CSV file\n",
    "merged.to_csv('combined_mdl.csv', index=False)"
   ]
  },
  {
   "cell_type": "markdown",
   "metadata": {},
   "source": [
    "## Polishing\n",
    "This section puts the finishing touches on the final csv file :D"
   ]
  },
  {
   "cell_type": "markdown",
   "metadata": {},
   "source": [
    "Currently, the genre and network are input as long strings. I am going to split them up into their own columns with a 1 or 0 if present."
   ]
  },
  {
   "cell_type": "code",
   "execution_count": 3,
   "metadata": {},
   "outputs": [],
   "source": [
    "mdl = pd.read_csv('combined_mdl.csv')\n",
    "test = mdl\n",
    "# split the network and genres into lists separated by commas\n",
    "with pd.option_context('mode.chained_assignment', None):\n",
    "    test['network'] = test['network'].str.split(': ').str[1]\n",
    "    test['genres'] = test['genres'].astype(str).str.replace(\", \", \",\")\n",
    "    test['genres'] = test['genres'].str.split(': ').str[1]\n",
    "    test['genres'] = test['genres'].astype(str).str.replace(\", \", \",\")"
   ]
  },
  {
   "cell_type": "code",
   "execution_count": 4,
   "metadata": {},
   "outputs": [],
   "source": [
    "# collect all unique genres present in the df before splitting the column into separate columns\n",
    "unique_genres = set()\n",
    "for genres in test['genres']:\n",
    "    split_genres = genres.split(',')\n",
    "    for genre in split_genres:\n",
    "        unique_genres.add(genre)\n",
    "\n",
    "unique_network = set()\n",
    "for network in test['network']:\n",
    "    if pd.notnull(network) and network != 'na':  # Check for non-null and non-'na' values\n",
    "        split_network = network.split(',')\n",
    "        for option in split_network:\n",
    "            unique_network.add(option)"
   ]
  },
  {
   "cell_type": "code",
   "execution_count": 5,
   "metadata": {},
   "outputs": [],
   "source": [
    "# Creating columns for each unique genre/network, put a zero if it's null/na\n",
    "with pd.option_context('mode.chained_assignment', None):\n",
    "    for genre in unique_genres:\n",
    "        test.loc[:, genre.strip()] = test['genres'].apply(lambda x: 1 if pd.notnull(x) and x != 'na' and genre in x else 0)\n",
    "    \n",
    "    for network in unique_network:\n",
    "        test.loc[:, network.strip()] = test['network'].apply(lambda x: 1 if pd.notnull(x) and x != 'na' and network in x else 0)"
   ]
  },
  {
   "cell_type": "markdown",
   "metadata": {},
   "source": [
    "My dataframe is unnecesarily large, so I am dropping genres and networks that don't have more than 15 occurences"
   ]
  },
  {
   "cell_type": "code",
   "execution_count": 7,
   "metadata": {},
   "outputs": [
    {
     "name": "stdout",
     "output_type": "stream",
     "text": [
      "(523, 94)\n",
      "(523, 39)\n"
     ]
    }
   ],
   "source": [
    "print(test.shape)\n",
    "\n",
    "sums = test.iloc[:, 8:].sum(axis=0)\n",
    "# Get columns to drop where the sum is less than 16\n",
    "columns_to_drop = sums[sums < 16].index\n",
    "\n",
    "# Drop columns where the sum is less than 2\n",
    "test2 = test.drop(columns=columns_to_drop)\n",
    "print(test2.shape)\n"
   ]
  },
  {
   "cell_type": "markdown",
   "metadata": {},
   "source": [
    "Writing the official dataframe to a csv file:"
   ]
  },
  {
   "cell_type": "code",
   "execution_count": 204,
   "metadata": {},
   "outputs": [],
   "source": [
    "test2.to_csv(\"mdl_final.csv\", index=False)"
   ]
  },
  {
   "cell_type": "markdown",
   "metadata": {},
   "source": [
    "### Hooray we made it!"
   ]
  }
 ],
 "metadata": {
  "kernelspec": {
   "display_name": "new386",
   "language": "python",
   "name": "python3"
  },
  "language_info": {
   "codemirror_mode": {
    "name": "ipython",
    "version": 3
   },
   "file_extension": ".py",
   "mimetype": "text/x-python",
   "name": "python",
   "nbconvert_exporter": "python",
   "pygments_lexer": "ipython3",
   "version": "3.11.5"
  },
  "orig_nbformat": 4
 },
 "nbformat": 4,
 "nbformat_minor": 2
}
