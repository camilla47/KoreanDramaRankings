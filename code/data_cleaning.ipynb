{
 "cells": [
  {
   "cell_type": "code",
   "execution_count": 7,
   "metadata": {},
   "outputs": [],
   "source": [
    "import numpy as np\n",
    "import pandas as pd\n",
    "import bs4\n",
    "from bs4 import BeautifulSoup\n",
    "import requests\n",
    "import re\n",
    "import os\n",
    "\n",
    "from bsoup_scrape import bsoup_scrape_data\n",
    "from selenium_scrape import scrape_page2"
   ]
  },
  {
   "cell_type": "code",
   "execution_count": 14,
   "metadata": {},
   "outputs": [],
   "source": [
    "titles = []\n",
    "years = []\n",
    "episodes = []\n",
    "countries = []\n",
    "scores = []\n",
    "ranks = []\n",
    "\n",
    "titles_p2 = []\n",
    "genres = []\n",
    "network = []\n",
    "watchers = []"
   ]
  },
  {
   "cell_type": "markdown",
   "metadata": {},
   "source": [
    "# Part 1 - Beautiful Soup\n",
    "\n",
    "This section of code will use beautiful soup to scrape everything shown on the first page (the one listing all the titles)"
   ]
  },
  {
   "cell_type": "code",
   "execution_count": 42,
   "metadata": {},
   "outputs": [],
   "source": [
    "# URL to scrape\n",
    "url_base = 'https://mydramalist.com/shows/top?page='\n",
    "page_number = \"27\"\n",
    "url = url_base+page_number\n",
    "# Send a GET request to the URL\n",
    "response = requests.get(url)\n",
    "# Parse the HTML content using BeautifulSoup\n",
    "soup = BeautifulSoup(response.content, 'html.parser')\n",
    "\n",
    "bsoup_scrape_data(titles, years, episodes, countries, scores, ranks, soup)\n",
    "\n",
    "my_drama_list = pd.DataFrame({\n",
    "    \"title\": titles,\n",
    "    \"year\": years,\n",
    "    \"episodes\": episodes,\n",
    "    \"country\": countries,\n",
    "    \"viewer_score\": scores,\n",
    "    \"rank\": ranks\n",
    "})\n",
    "soup_scrape = pd.DataFrame(my_drama_list)\n",
    "\n",
    "#if the csv file already exists, delete it\n",
    "if os.path.exists(\"msoup_scrapedl.csv\"):\n",
    "   os.remove(\"soup_scrape.csv\")\n",
    "\n",
    "# soup_scrape.to_csv(\"combined_soup.csv\", index=False) #commenting this out so I don't accidentally delete it again"
   ]
  },
  {
   "cell_type": "markdown",
   "metadata": {},
   "source": [
    "# Part 2 - Selenium\n",
    "\n",
    "This section of the code will use selenium to click through each title page and scrape additional elements"
   ]
  },
  {
   "cell_type": "code",
   "execution_count": null,
   "metadata": {},
   "outputs": [],
   "source": []
  },
  {
   "cell_type": "code",
   "execution_count": 4,
   "metadata": {},
   "outputs": [],
   "source": [
    "url = 'https://mydramalist.com/shows/top?page=14'\n",
    "scrape_page2(titles_p2, genres, watchers, network, url)\n",
    "\n",
    "selenium_scrape = pd.DataFrame({\n",
    "    \"title\": titles_p2,\n",
    "    \"genres\": genres,\n",
    "    \"network\": network,\n",
    "    \"watchers\": watchers,\n",
    "})\n",
    "ss_df14 = pd.DataFrame(selenium_scrape)\n",
    "ss_df14\n",
    "\n",
    "ss_df14.to_csv(\"ss_df14.csv\", index=False)"
   ]
  },
  {
   "cell_type": "markdown",
   "metadata": {},
   "source": [
    "## Merging The DataFrames\n",
    "This section of the code will merge the csv files created from part 1 and part 2"
   ]
  },
  {
   "cell_type": "code",
   "execution_count": 12,
   "metadata": {},
   "outputs": [],
   "source": [
    "# Read the CSV files\n",
    "ss1_2 = pd.read_csv('ss_df.csv')\n",
    "ss3_4 = pd.read_csv('ss_df2.csv')\n",
    "ss5_6 = pd.read_csv('ss_df5-6.csv')\n",
    "ss7=pd.read_csv('ss_df7.csv')\n",
    "ss8=pd.read_csv('ss_df8.csv')\n",
    "ss9=pd.read_csv('ss_df9.csv')\n",
    "ss10=pd.read_csv('ss_df10.csv')\n",
    "ss11=pd.read_csv('ss_df11.csv')\n",
    "ss12=pd.read_csv('ss_df12.csv')\n",
    "ss13=pd.read_csv('ss_df13.csv')\n",
    "\n",
    "# Combine the files\n",
    "selenium_mdl = pd.concat([ss1_2, ss3_4,ss5_6,ss7,ss8,ss9,ss10,ss11,ss12,ss13 ])\n",
    "# if the csv file already exists, delete it\n",
    "if os.path.exists(\"combined_selenium.csv\"):\n",
    "    os.remove(\"combined_selenium.csv\")\n",
    "# Write the combined data to a new CSV file\n",
    "selenium_mdl.to_csv('combined_selenium.csv', index=False)\n"
   ]
  },
  {
   "cell_type": "markdown",
   "metadata": {},
   "source": [
    "merge the selenium and beautiful soup csv files"
   ]
  },
  {
   "cell_type": "code",
   "execution_count": 44,
   "metadata": {},
   "outputs": [],
   "source": [
    "soup = pd.read_csv('combined_soup.csv')\n",
    "sel = pd.read_csv('combined_selenium.csv')\n",
    "\n",
    "# Merge based on the 'title' column\n",
    "merged = pd.merge(soup, sel, on='title', how='inner') #'inner' keeps only matching rows\n",
    "\n",
    "# if the csv file already exists, delete it\n",
    "if os.path.exists(\"combined_mdl.csv\"):\n",
    "    os.remove(\"combined_mdl.csv\")\n",
    "\n",
    "# Write the merged data to a new CSV file\n",
    "merged.to_csv('combined_mdl.csv', index=False)"
   ]
  },
  {
   "cell_type": "markdown",
   "metadata": {},
   "source": [
    "## Polishing\n",
    "This section puts the finishing touches on the final csv file :D"
   ]
  },
  {
   "cell_type": "code",
   "execution_count": null,
   "metadata": {},
   "outputs": [],
   "source": []
  }
 ],
 "metadata": {
  "kernelspec": {
   "display_name": "new386",
   "language": "python",
   "name": "python3"
  },
  "language_info": {
   "codemirror_mode": {
    "name": "ipython",
    "version": 3
   },
   "file_extension": ".py",
   "mimetype": "text/x-python",
   "name": "python",
   "nbconvert_exporter": "python",
   "pygments_lexer": "ipython3",
   "version": "3.11.5"
  },
  "orig_nbformat": 4
 },
 "nbformat": 4,
 "nbformat_minor": 2
}
