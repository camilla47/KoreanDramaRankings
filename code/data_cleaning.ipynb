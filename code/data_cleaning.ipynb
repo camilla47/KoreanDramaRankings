{
 "cells": [
  {
   "cell_type": "code",
   "execution_count": 1,
   "metadata": {},
   "outputs": [],
   "source": [
    "import numpy as np\n",
    "import pandas as pd\n",
    "import bs4\n",
    "from bs4 import BeautifulSoup\n",
    "import requests\n",
    "import re\n",
    "import os\n",
    "\n",
    "from bsoup_scrape import bsoup_scrape_data\n",
    "from selenium_scrape import scrape_page2"
   ]
  },
  {
   "cell_type": "code",
   "execution_count": 2,
   "metadata": {},
   "outputs": [],
   "source": [
    "titles = []\n",
    "years = []\n",
    "episodes = []\n",
    "countries = []\n",
    "scores = []\n",
    "ranks = []\n",
    "\n",
    "titles_p2 = []\n",
    "genres = []\n",
    "network = []\n",
    "watchers = []"
   ]
  },
  {
   "cell_type": "markdown",
   "metadata": {},
   "source": [
    "# Part 1 - Beautiful Soup\n",
    "\n",
    "This section of code will use beautiful soup to scrape everything shown on the first page (the one listing all the titles)"
   ]
  },
  {
   "cell_type": "code",
   "execution_count": 68,
   "metadata": {},
   "outputs": [],
   "source": [
    "# URL to scrape\n",
    "url_base = 'https://mydramalist.com/shows/top?page='\n",
    "page_number = \"25\"\n",
    "url = url_base+page_number\n",
    "# Send a GET request to the URL\n",
    "response = requests.get(url)\n",
    "# Parse the HTML content using BeautifulSoup\n",
    "soup = BeautifulSoup(response.content, 'html.parser')\n",
    "\n",
    "bsoup_scrape_data(titles, years, episodes, countries, scores, ranks, soup)\n",
    "\n",
    "my_drama_list = pd.DataFrame({\n",
    "    \"title\": titles,\n",
    "    \"year\": years,\n",
    "    \"episodes\": episodes,\n",
    "    \"country\": countries,\n",
    "    \"viewer_score\": scores,\n",
    "    \"rank\": ranks\n",
    "})\n",
    "mdl = pd.DataFrame(my_drama_list)\n",
    "\n",
    "# if the csv file already exists, delete it\n",
    "if os.path.exists(\"mdl.csv\"):\n",
    "    os.remove(\"mdl.csv\")\n",
    "\n",
    "mdl.to_csv(\"mdl.csv\", index=False)"
   ]
  },
  {
   "cell_type": "markdown",
   "metadata": {},
   "source": [
    "# Part 2 - Selenium\n",
    "\n",
    "This section of the code will use selenium to click through each title page and scrape additional elements"
   ]
  },
  {
   "cell_type": "code",
   "execution_count": null,
   "metadata": {},
   "outputs": [],
   "source": []
  },
  {
   "cell_type": "code",
   "execution_count": 4,
   "metadata": {},
   "outputs": [],
   "source": [
    "url = 'https://mydramalist.com/shows/top?page=14'\n",
    "scrape_page2(titles_p2, genres, watchers, network, url)\n",
    "\n",
    "selenium_scrape = pd.DataFrame({\n",
    "    \"title\": titles_p2,\n",
    "    \"genres\": genres,\n",
    "    \"network\": network,\n",
    "    \"watchers\": watchers,\n",
    "})\n",
    "ss_df14 = pd.DataFrame(selenium_scrape)\n",
    "ss_df14\n",
    "\n",
    "ss_df14.to_csv(\"ss_df14.csv\", index=False)"
   ]
  },
  {
   "cell_type": "markdown",
   "metadata": {},
   "source": [
    "## Merging The DataFrames\n",
    "This section of the code will merge the csv files created from part 1 and part 2"
   ]
  },
  {
   "cell_type": "code",
   "execution_count": null,
   "metadata": {},
   "outputs": [],
   "source": [
    "woohoo"
   ]
  },
  {
   "cell_type": "markdown",
   "metadata": {},
   "source": [
    "## Polishing\n",
    "This section puts the finishing touches on the final csv file :D"
   ]
  },
  {
   "cell_type": "code",
   "execution_count": null,
   "metadata": {},
   "outputs": [],
   "source": []
  }
 ],
 "metadata": {
  "kernelspec": {
   "display_name": "new386",
   "language": "python",
   "name": "python3"
  },
  "language_info": {
   "codemirror_mode": {
    "name": "ipython",
    "version": 3
   },
   "file_extension": ".py",
   "mimetype": "text/x-python",
   "name": "python",
   "nbconvert_exporter": "python",
   "pygments_lexer": "ipython3",
   "version": "3.11.5"
  },
  "orig_nbformat": 4
 },
 "nbformat": 4,
 "nbformat_minor": 2
}
