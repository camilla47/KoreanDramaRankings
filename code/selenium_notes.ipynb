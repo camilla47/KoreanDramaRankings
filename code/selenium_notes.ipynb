{
 "cells": [
  {
   "cell_type": "code",
   "execution_count": 1,
   "metadata": {},
   "outputs": [],
   "source": [
    "from selenium import webdriver\n",
    "from selenium.webdriver.common.by import By\n",
    "\n",
    "from selenium.webdriver.chrome.options import Options\n",
    "from selenium.webdriver.chrome.service import Service as ChromeService\n",
    "from webdriver_manager.chrome import ChromeDriverManager\n",
    "from selenium.webdriver.support.ui import WebDriverWait\n",
    "from selenium.webdriver.support import expected_conditions as EC"
   ]
  },
  {
   "cell_type": "code",
   "execution_count": 2,
   "metadata": {},
   "outputs": [],
   "source": [
    "url = 'https://mydramalist.com/shows/top?page=1'\n"
   ]
  },
  {
   "cell_type": "code",
   "execution_count": 3,
   "metadata": {},
   "outputs": [
    {
     "name": "stdout",
     "output_type": "stream",
     "text": [
      "Starting Driver\n"
     ]
    },
    {
     "data": {
      "text/plain": [
       "'\\nthis thing from gpt:\\n    # Wait for the title element to be clickable\\n    title_element = WebDriverWait(driver, 10).until(\\n        EC.element_to_be_clickable((By.CSS_SELECTOR, \"h6.title a\"))\\n    )\\n\\ndo i ever need to do driver.quit?\\n'"
      ]
     },
     "execution_count": 3,
     "metadata": {},
     "output_type": "execute_result"
    }
   ],
   "source": [
    "def initialize_browser():\n",
    "    driver = webdriver.Chrome(service=ChromeService(ChromeDriverManager().install()))\n",
    "    driver.get(url)\n",
    "    print('Starting Driver')\n",
    "    title_element = driver.find_element(by=By.CSS_SELECTOR, value='h6.title a')\n",
    "    title_element.click()\n",
    "\n",
    "initialize_browser()\n",
    "\n",
    "'''\n",
    "this thing from gpt:\n",
    "    # Wait for the title element to be clickable\n",
    "    title_element = WebDriverWait(driver, 10).until(\n",
    "        EC.element_to_be_clickable((By.CSS_SELECTOR, \"h6.title a\"))\n",
    "    )\n",
    "\n",
    "do i ever need to do driver.quit?\n",
    "'''    "
   ]
  },
  {
   "cell_type": "code",
   "execution_count": 11,
   "metadata": {},
   "outputs": [
    {
     "name": "stdout",
     "output_type": "stream",
     "text": [
      "Starting Driver\n",
      "moving on to next page\n"
     ]
    },
    {
     "ename": "TimeoutException",
     "evalue": "Message: \nStacktrace:\n0   chromedriver                        0x00000001052f5d28 chromedriver + 4795688\n1   chromedriver                        0x00000001052ed2b3 chromedriver + 4760243\n2   chromedriver                        0x0000000104ec688d chromedriver + 407693\n3   chromedriver                        0x0000000104f153d9 chromedriver + 730073\n4   chromedriver                        0x0000000104f15591 chromedriver + 730513\n5   chromedriver                        0x0000000104f5b7e4 chromedriver + 1017828\n6   chromedriver                        0x0000000104f3cccd chromedriver + 892109\n7   chromedriver                        0x0000000104f58b2b chromedriver + 1006379\n8   chromedriver                        0x0000000104f3ca73 chromedriver + 891507\n9   chromedriver                        0x0000000104f07143 chromedriver + 672067\n10  chromedriver                        0x0000000104f0831e chromedriver + 676638\n11  chromedriver                        0x00000001052b6795 chromedriver + 4536213\n12  chromedriver                        0x00000001052bb853 chromedriver + 4556883\n13  chromedriver                        0x000000010529c001 chromedriver + 4427777\n14  chromedriver                        0x00000001052bc59d chromedriver + 4560285\n15  chromedriver                        0x000000010528d48c chromedriver + 4367500\n16  chromedriver                        0x00000001052dc0e8 chromedriver + 4690152\n17  chromedriver                        0x00000001052dc29e chromedriver + 4690590\n18  chromedriver                        0x00000001052eceee chromedriver + 4759278\n19  libsystem_pthread.dylib             0x00007ff80291f4e1 _pthread_start + 125\n20  libsystem_pthread.dylib             0x00007ff80291af6b thread_start + 15\n",
     "output_type": "error",
     "traceback": [
      "\u001b[0;31m---------------------------------------------------------------------------\u001b[0m",
      "\u001b[0;31mTimeoutException\u001b[0m                          Traceback (most recent call last)",
      "Cell \u001b[0;32mIn[11], line 17\u001b[0m\n\u001b[1;32m     14\u001b[0m     content_rating \u001b[39m=\u001b[39m content_rating_element\u001b[39m.\u001b[39mtext\u001b[39m.\u001b[39mstrip()\n\u001b[1;32m     15\u001b[0m     \u001b[39mprint\u001b[39m(\u001b[39m'\u001b[39m\u001b[39mContent Rating:\u001b[39m\u001b[39m'\u001b[39m, content_rating)\n\u001b[0;32m---> 17\u001b[0m initialize_browser()\n",
      "Cell \u001b[0;32mIn[11], line 11\u001b[0m, in \u001b[0;36minitialize_browser\u001b[0;34m()\u001b[0m\n\u001b[1;32m      8\u001b[0m title_element\u001b[39m.\u001b[39mclick()\n\u001b[1;32m     10\u001b[0m \u001b[39mprint\u001b[39m(\u001b[39m'\u001b[39m\u001b[39mmoving on to next page\u001b[39m\u001b[39m'\u001b[39m)\n\u001b[0;32m---> 11\u001b[0m content_rating_element \u001b[39m=\u001b[39m WebDriverWait(driver, \u001b[39m30\u001b[39m)\u001b[39m.\u001b[39muntil(\n\u001b[1;32m     12\u001b[0m         EC\u001b[39m.\u001b[39mvisibility_of_element_located((By\u001b[39m.\u001b[39mCSS_SELECTOR, \u001b[39m'\u001b[39m\u001b[39m.show-status + p\u001b[39m\u001b[39m'\u001b[39m))\n\u001b[1;32m     13\u001b[0m     )\n\u001b[1;32m     14\u001b[0m content_rating \u001b[39m=\u001b[39m content_rating_element\u001b[39m.\u001b[39mtext\u001b[39m.\u001b[39mstrip()\n\u001b[1;32m     15\u001b[0m \u001b[39mprint\u001b[39m(\u001b[39m'\u001b[39m\u001b[39mContent Rating:\u001b[39m\u001b[39m'\u001b[39m, content_rating)\n",
      "File \u001b[0;32m~/anaconda3/envs/new386/lib/python3.11/site-packages/selenium/webdriver/support/wait.py:101\u001b[0m, in \u001b[0;36mWebDriverWait.until\u001b[0;34m(self, method, message)\u001b[0m\n\u001b[1;32m     99\u001b[0m     \u001b[39mif\u001b[39;00m time\u001b[39m.\u001b[39mmonotonic() \u001b[39m>\u001b[39m end_time:\n\u001b[1;32m    100\u001b[0m         \u001b[39mbreak\u001b[39;00m\n\u001b[0;32m--> 101\u001b[0m \u001b[39mraise\u001b[39;00m TimeoutException(message, screen, stacktrace)\n",
      "\u001b[0;31mTimeoutException\u001b[0m: Message: \nStacktrace:\n0   chromedriver                        0x00000001052f5d28 chromedriver + 4795688\n1   chromedriver                        0x00000001052ed2b3 chromedriver + 4760243\n2   chromedriver                        0x0000000104ec688d chromedriver + 407693\n3   chromedriver                        0x0000000104f153d9 chromedriver + 730073\n4   chromedriver                        0x0000000104f15591 chromedriver + 730513\n5   chromedriver                        0x0000000104f5b7e4 chromedriver + 1017828\n6   chromedriver                        0x0000000104f3cccd chromedriver + 892109\n7   chromedriver                        0x0000000104f58b2b chromedriver + 1006379\n8   chromedriver                        0x0000000104f3ca73 chromedriver + 891507\n9   chromedriver                        0x0000000104f07143 chromedriver + 672067\n10  chromedriver                        0x0000000104f0831e chromedriver + 676638\n11  chromedriver                        0x00000001052b6795 chromedriver + 4536213\n12  chromedriver                        0x00000001052bb853 chromedriver + 4556883\n13  chromedriver                        0x000000010529c001 chromedriver + 4427777\n14  chromedriver                        0x00000001052bc59d chromedriver + 4560285\n15  chromedriver                        0x000000010528d48c chromedriver + 4367500\n16  chromedriver                        0x00000001052dc0e8 chromedriver + 4690152\n17  chromedriver                        0x00000001052dc29e chromedriver + 4690590\n18  chromedriver                        0x00000001052eceee chromedriver + 4759278\n19  libsystem_pthread.dylib             0x00007ff80291f4e1 _pthread_start + 125\n20  libsystem_pthread.dylib             0x00007ff80291af6b thread_start + 15\n"
     ]
    }
   ],
   "source": [
    "def initialize_browser():\n",
    "    driver = webdriver.Chrome(service=ChromeService(ChromeDriverManager().install()))\n",
    "    driver.get(url)\n",
    "    print('Starting Driver')\n",
    "    title_element = WebDriverWait(driver, 10).until(\n",
    "            EC.element_to_be_clickable((By.CSS_SELECTOR, 'h6.title a'))\n",
    "        )\n",
    "    title_element.click()\n",
    "        \n",
    "    print('moving on to next page')\n",
    "    content_rating_element = WebDriverWait(driver, 30).until(\n",
    "            EC.visibility_of_element_located((By.CSS_SELECTOR, '.show-status + p'))\n",
    "        )\n",
    "    content_rating = content_rating_element.text.strip()\n",
    "    print('Content Rating:', content_rating)\n",
    "    \n",
    "initialize_browser()"
   ]
  },
  {
   "cell_type": "code",
   "execution_count": 5,
   "metadata": {},
   "outputs": [
    {
     "name": "stdout",
     "output_type": "stream",
     "text": [
      "Starting Driver\n",
      "moving on to next page\n"
     ]
    },
    {
     "ename": "TypeError",
     "evalue": "'WebElement' object is not subscriptable",
     "output_type": "error",
     "traceback": [
      "\u001b[0;31m---------------------------------------------------------------------------\u001b[0m",
      "\u001b[0;31mTypeError\u001b[0m                                 Traceback (most recent call last)",
      "Cell \u001b[0;32mIn[5], line 18\u001b[0m\n\u001b[1;32m     15\u001b[0m     \u001b[39mfor\u001b[39;00m genre \u001b[39min\u001b[39;00m genres:\n\u001b[1;32m     16\u001b[0m         genres\u001b[39m.\u001b[39mappend(genre)\n\u001b[0;32m---> 18\u001b[0m initialize_browser()\n",
      "Cell \u001b[0;32mIn[5], line 14\u001b[0m, in \u001b[0;36minitialize_browser\u001b[0;34m()\u001b[0m\n\u001b[1;32m     12\u001b[0m \u001b[39mprint\u001b[39m(\u001b[39m'\u001b[39m\u001b[39mmoving on to next page\u001b[39m\u001b[39m'\u001b[39m)\n\u001b[1;32m     13\u001b[0m genres_section \u001b[39m=\u001b[39m driver\u001b[39m.\u001b[39mfind_element(by\u001b[39m=\u001b[39mBy\u001b[39m.\u001b[39mCLASS_NAME, value\u001b[39m=\u001b[39m\u001b[39m'\u001b[39m\u001b[39mshow-genres\u001b[39m\u001b[39m'\u001b[39m)\n\u001b[0;32m---> 14\u001b[0m genres \u001b[39m=\u001b[39m genres_section[\u001b[39m0\u001b[39m]\u001b[39m.\u001b[39mfind_elements(By\u001b[39m.\u001b[39mCLASS_NAME, \u001b[39m'\u001b[39m\u001b[39mbadge\u001b[39m\u001b[39m'\u001b[39m)\n\u001b[1;32m     15\u001b[0m \u001b[39mfor\u001b[39;00m genre \u001b[39min\u001b[39;00m genres:\n\u001b[1;32m     16\u001b[0m     genres\u001b[39m.\u001b[39mappend(genre)\n",
      "\u001b[0;31mTypeError\u001b[0m: 'WebElement' object is not subscriptable"
     ]
    }
   ],
   "source": [
    "# new attempt\n",
    "import time\n",
    "genres = []\n",
    "def initialize_browser():\n",
    "    driver = webdriver.Chrome(service=ChromeService(ChromeDriverManager().install()))\n",
    "    driver.get(url)\n",
    "    print('Starting Driver')\n",
    "    title_element = driver.find_element(by=By.CSS_SELECTOR, value='h6.title a')\n",
    "    time.sleep(.5)\n",
    "    title_element.click()\n",
    "    time.sleep(1)\n",
    "    print('moving on to next page')\n",
    "    genres_section = driver.find_element(by=By.CLASS_NAME, value='show-genres')\n",
    "    genres = genres_section[0].find_elements(By.CLASS_NAME, 'badge')\n",
    "    for genre in genres:\n",
    "        genres.append(genre)\n",
    "    \n",
    "initialize_browser()"
   ]
  },
  {
   "cell_type": "code",
   "execution_count": null,
   "metadata": {},
   "outputs": [],
   "source": [
    "By.CLASS_NAME, 'show-genres'"
   ]
  }
 ],
 "metadata": {
  "kernelspec": {
   "display_name": "new386",
   "language": "python",
   "name": "python3"
  },
  "language_info": {
   "codemirror_mode": {
    "name": "ipython",
    "version": 3
   },
   "file_extension": ".py",
   "mimetype": "text/x-python",
   "name": "python",
   "nbconvert_exporter": "python",
   "pygments_lexer": "ipython3",
   "version": "3.11.5"
  },
  "orig_nbformat": 4
 },
 "nbformat": 4,
 "nbformat_minor": 2
}
