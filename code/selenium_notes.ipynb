{
 "cells": [
  {
   "cell_type": "code",
   "execution_count": 10,
   "metadata": {},
   "outputs": [],
   "source": [
    "from selenium import webdriver\n",
    "from selenium.webdriver.common.by import By\n",
    "\n",
    "from selenium.webdriver.chrome.options import Options\n",
    "from selenium.webdriver.chrome.service import Service as ChromeService\n",
    "from webdriver_manager.chrome import ChromeDriverManager\n",
    "from selenium.webdriver.support.ui import WebDriverWait\n",
    "from selenium.webdriver.support import expected_conditions as EC\n",
    "from selenium.common.exceptions import TimeoutException"
   ]
  },
  {
   "cell_type": "code",
   "execution_count": 2,
   "metadata": {},
   "outputs": [],
   "source": [
    "url = 'https://mydramalist.com/shows/top?page=1'\n"
   ]
  },
  {
   "cell_type": "markdown",
   "metadata": {},
   "source": [
    "#### Just clicking to the next page"
   ]
  },
  {
   "cell_type": "code",
   "execution_count": 3,
   "metadata": {},
   "outputs": [
    {
     "name": "stdout",
     "output_type": "stream",
     "text": [
      "Starting Driver\n"
     ]
    },
    {
     "data": {
      "text/plain": [
       "'\\nthis thing from gpt:\\n    # Wait for the title element to be clickable\\n    title_element = WebDriverWait(driver, 10).until(\\n        EC.element_to_be_clickable((By.CSS_SELECTOR, \"h6.title a\"))\\n    )\\n\\ndo i ever need to do driver.quit?\\n'"
      ]
     },
     "execution_count": 3,
     "metadata": {},
     "output_type": "execute_result"
    }
   ],
   "source": [
    "def initialize_browser():\n",
    "    driver = webdriver.Chrome(service=ChromeService(ChromeDriverManager().install()))\n",
    "    driver.get(url)\n",
    "    print('Starting Driver')\n",
    "    title_element = driver.find_element(by=By.CSS_SELECTOR, value='h6.title a')\n",
    "    title_element.click()\n",
    "\n",
    "initialize_browser()\n",
    "\n",
    "'''\n",
    "this thing from gpt:\n",
    "    # Wait for the title element to be clickable\n",
    "    title_element = WebDriverWait(driver, 10).until(\n",
    "        EC.element_to_be_clickable((By.CSS_SELECTOR, \"h6.title a\"))\n",
    "    )\n",
    "\n",
    "do i ever need to do driver.quit?\n",
    "'''    "
   ]
  },
  {
   "cell_type": "code",
   "execution_count": 11,
   "metadata": {},
   "outputs": [
    {
     "name": "stdout",
     "output_type": "stream",
     "text": [
      "Starting Driver\n",
      "moving on to next page\n"
     ]
    },
    {
     "ename": "TimeoutException",
     "evalue": "Message: \nStacktrace:\n0   chromedriver                        0x00000001052f5d28 chromedriver + 4795688\n1   chromedriver                        0x00000001052ed2b3 chromedriver + 4760243\n2   chromedriver                        0x0000000104ec688d chromedriver + 407693\n3   chromedriver                        0x0000000104f153d9 chromedriver + 730073\n4   chromedriver                        0x0000000104f15591 chromedriver + 730513\n5   chromedriver                        0x0000000104f5b7e4 chromedriver + 1017828\n6   chromedriver                        0x0000000104f3cccd chromedriver + 892109\n7   chromedriver                        0x0000000104f58b2b chromedriver + 1006379\n8   chromedriver                        0x0000000104f3ca73 chromedriver + 891507\n9   chromedriver                        0x0000000104f07143 chromedriver + 672067\n10  chromedriver                        0x0000000104f0831e chromedriver + 676638\n11  chromedriver                        0x00000001052b6795 chromedriver + 4536213\n12  chromedriver                        0x00000001052bb853 chromedriver + 4556883\n13  chromedriver                        0x000000010529c001 chromedriver + 4427777\n14  chromedriver                        0x00000001052bc59d chromedriver + 4560285\n15  chromedriver                        0x000000010528d48c chromedriver + 4367500\n16  chromedriver                        0x00000001052dc0e8 chromedriver + 4690152\n17  chromedriver                        0x00000001052dc29e chromedriver + 4690590\n18  chromedriver                        0x00000001052eceee chromedriver + 4759278\n19  libsystem_pthread.dylib             0x00007ff80291f4e1 _pthread_start + 125\n20  libsystem_pthread.dylib             0x00007ff80291af6b thread_start + 15\n",
     "output_type": "error",
     "traceback": [
      "\u001b[0;31m---------------------------------------------------------------------------\u001b[0m",
      "\u001b[0;31mTimeoutException\u001b[0m                          Traceback (most recent call last)",
      "Cell \u001b[0;32mIn[11], line 17\u001b[0m\n\u001b[1;32m     14\u001b[0m     content_rating \u001b[39m=\u001b[39m content_rating_element\u001b[39m.\u001b[39mtext\u001b[39m.\u001b[39mstrip()\n\u001b[1;32m     15\u001b[0m     \u001b[39mprint\u001b[39m(\u001b[39m'\u001b[39m\u001b[39mContent Rating:\u001b[39m\u001b[39m'\u001b[39m, content_rating)\n\u001b[0;32m---> 17\u001b[0m initialize_browser()\n",
      "Cell \u001b[0;32mIn[11], line 11\u001b[0m, in \u001b[0;36minitialize_browser\u001b[0;34m()\u001b[0m\n\u001b[1;32m      8\u001b[0m title_element\u001b[39m.\u001b[39mclick()\n\u001b[1;32m     10\u001b[0m \u001b[39mprint\u001b[39m(\u001b[39m'\u001b[39m\u001b[39mmoving on to next page\u001b[39m\u001b[39m'\u001b[39m)\n\u001b[0;32m---> 11\u001b[0m content_rating_element \u001b[39m=\u001b[39m WebDriverWait(driver, \u001b[39m30\u001b[39m)\u001b[39m.\u001b[39muntil(\n\u001b[1;32m     12\u001b[0m         EC\u001b[39m.\u001b[39mvisibility_of_element_located((By\u001b[39m.\u001b[39mCSS_SELECTOR, \u001b[39m'\u001b[39m\u001b[39m.show-status + p\u001b[39m\u001b[39m'\u001b[39m))\n\u001b[1;32m     13\u001b[0m     )\n\u001b[1;32m     14\u001b[0m content_rating \u001b[39m=\u001b[39m content_rating_element\u001b[39m.\u001b[39mtext\u001b[39m.\u001b[39mstrip()\n\u001b[1;32m     15\u001b[0m \u001b[39mprint\u001b[39m(\u001b[39m'\u001b[39m\u001b[39mContent Rating:\u001b[39m\u001b[39m'\u001b[39m, content_rating)\n",
      "File \u001b[0;32m~/anaconda3/envs/new386/lib/python3.11/site-packages/selenium/webdriver/support/wait.py:101\u001b[0m, in \u001b[0;36mWebDriverWait.until\u001b[0;34m(self, method, message)\u001b[0m\n\u001b[1;32m     99\u001b[0m     \u001b[39mif\u001b[39;00m time\u001b[39m.\u001b[39mmonotonic() \u001b[39m>\u001b[39m end_time:\n\u001b[1;32m    100\u001b[0m         \u001b[39mbreak\u001b[39;00m\n\u001b[0;32m--> 101\u001b[0m \u001b[39mraise\u001b[39;00m TimeoutException(message, screen, stacktrace)\n",
      "\u001b[0;31mTimeoutException\u001b[0m: Message: \nStacktrace:\n0   chromedriver                        0x00000001052f5d28 chromedriver + 4795688\n1   chromedriver                        0x00000001052ed2b3 chromedriver + 4760243\n2   chromedriver                        0x0000000104ec688d chromedriver + 407693\n3   chromedriver                        0x0000000104f153d9 chromedriver + 730073\n4   chromedriver                        0x0000000104f15591 chromedriver + 730513\n5   chromedriver                        0x0000000104f5b7e4 chromedriver + 1017828\n6   chromedriver                        0x0000000104f3cccd chromedriver + 892109\n7   chromedriver                        0x0000000104f58b2b chromedriver + 1006379\n8   chromedriver                        0x0000000104f3ca73 chromedriver + 891507\n9   chromedriver                        0x0000000104f07143 chromedriver + 672067\n10  chromedriver                        0x0000000104f0831e chromedriver + 676638\n11  chromedriver                        0x00000001052b6795 chromedriver + 4536213\n12  chromedriver                        0x00000001052bb853 chromedriver + 4556883\n13  chromedriver                        0x000000010529c001 chromedriver + 4427777\n14  chromedriver                        0x00000001052bc59d chromedriver + 4560285\n15  chromedriver                        0x000000010528d48c chromedriver + 4367500\n16  chromedriver                        0x00000001052dc0e8 chromedriver + 4690152\n17  chromedriver                        0x00000001052dc29e chromedriver + 4690590\n18  chromedriver                        0x00000001052eceee chromedriver + 4759278\n19  libsystem_pthread.dylib             0x00007ff80291f4e1 _pthread_start + 125\n20  libsystem_pthread.dylib             0x00007ff80291af6b thread_start + 15\n"
     ]
    }
   ],
   "source": [
    "def initialize_browser():\n",
    "    driver = webdriver.Chrome(service=ChromeService(ChromeDriverManager().install()))\n",
    "    driver.get(url)\n",
    "    print('Starting Driver')\n",
    "    title_element = WebDriverWait(driver, 10).until(\n",
    "            EC.element_to_be_clickable((By.CSS_SELECTOR, 'h6.title a'))\n",
    "        )\n",
    "    title_element.click()\n",
    "        \n",
    "    print('moving on to next page')\n",
    "    content_rating_element = WebDriverWait(driver, 30).until(\n",
    "            EC.visibility_of_element_located((By.CSS_SELECTOR, '.show-status + p'))\n",
    "        )\n",
    "    content_rating = content_rating_element.text.strip()\n",
    "    print('Content Rating:', content_rating)\n",
    "    \n",
    "initialize_browser()"
   ]
  },
  {
   "cell_type": "markdown",
   "metadata": {},
   "source": [
    "using sleep instead"
   ]
  },
  {
   "cell_type": "code",
   "execution_count": 39,
   "metadata": {},
   "outputs": [
    {
     "name": "stdout",
     "output_type": "stream",
     "text": [
      "error occured: \n",
      "Starting Driver\n",
      "Starting Driver\n",
      "[<selenium.webdriver.remote.webelement.WebElement (session=\"0392247415f9a864d64abd99e25c2dc1\", element=\"A2E44220C1B9AA2491B46982A4EC25A6_element_107\")>, <selenium.webdriver.remote.webelement.WebElement (session=\"0392247415f9a864d64abd99e25c2dc1\", element=\"A2E44220C1B9AA2491B46982A4EC25A6_element_78\")>, <selenium.webdriver.remote.webelement.WebElement (session=\"0392247415f9a864d64abd99e25c2dc1\", element=\"A2E44220C1B9AA2491B46982A4EC25A6_element_108\")>, <selenium.webdriver.remote.webelement.WebElement (session=\"0392247415f9a864d64abd99e25c2dc1\", element=\"A2E44220C1B9AA2491B46982A4EC25A6_element_81\")>, <selenium.webdriver.remote.webelement.WebElement (session=\"0392247415f9a864d64abd99e25c2dc1\", element=\"A2E44220C1B9AA2491B46982A4EC25A6_element_109\")>, <selenium.webdriver.remote.webelement.WebElement (session=\"0392247415f9a864d64abd99e25c2dc1\", element=\"A2E44220C1B9AA2491B46982A4EC25A6_element_110\")>, <selenium.webdriver.remote.webelement.WebElement (session=\"0392247415f9a864d64abd99e25c2dc1\", element=\"A2E44220C1B9AA2491B46982A4EC25A6_element_111\")>, <selenium.webdriver.remote.webelement.WebElement (session=\"0392247415f9a864d64abd99e25c2dc1\", element=\"A2E44220C1B9AA2491B46982A4EC25A6_element_112\")>, <selenium.webdriver.remote.webelement.WebElement (session=\"0392247415f9a864d64abd99e25c2dc1\", element=\"A2E44220C1B9AA2491B46982A4EC25A6_element_113\")>, <selenium.webdriver.remote.webelement.WebElement (session=\"0392247415f9a864d64abd99e25c2dc1\", element=\"A2E44220C1B9AA2491B46982A4EC25A6_element_114\")>, <selenium.webdriver.remote.webelement.WebElement (session=\"0392247415f9a864d64abd99e25c2dc1\", element=\"A2E44220C1B9AA2491B46982A4EC25A6_element_115\")>, <selenium.webdriver.remote.webelement.WebElement (session=\"0392247415f9a864d64abd99e25c2dc1\", element=\"A2E44220C1B9AA2491B46982A4EC25A6_element_116\")>, <selenium.webdriver.remote.webelement.WebElement (session=\"0392247415f9a864d64abd99e25c2dc1\", element=\"A2E44220C1B9AA2491B46982A4EC25A6_element_117\")>, <selenium.webdriver.remote.webelement.WebElement (session=\"0392247415f9a864d64abd99e25c2dc1\", element=\"A2E44220C1B9AA2491B46982A4EC25A6_element_118\")>, <selenium.webdriver.remote.webelement.WebElement (session=\"0392247415f9a864d64abd99e25c2dc1\", element=\"A2E44220C1B9AA2491B46982A4EC25A6_element_119\")>, <selenium.webdriver.remote.webelement.WebElement (session=\"0392247415f9a864d64abd99e25c2dc1\", element=\"A2E44220C1B9AA2491B46982A4EC25A6_element_120\")>, <selenium.webdriver.remote.webelement.WebElement (session=\"0392247415f9a864d64abd99e25c2dc1\", element=\"A2E44220C1B9AA2491B46982A4EC25A6_element_121\")>, <selenium.webdriver.remote.webelement.WebElement (session=\"0392247415f9a864d64abd99e25c2dc1\", element=\"A2E44220C1B9AA2491B46982A4EC25A6_element_122\")>, <selenium.webdriver.remote.webelement.WebElement (session=\"0392247415f9a864d64abd99e25c2dc1\", element=\"A2E44220C1B9AA2491B46982A4EC25A6_element_123\")>, <selenium.webdriver.remote.webelement.WebElement (session=\"0392247415f9a864d64abd99e25c2dc1\", element=\"A2E44220C1B9AA2491B46982A4EC25A6_element_124\")>, <selenium.webdriver.remote.webelement.WebElement (session=\"0392247415f9a864d64abd99e25c2dc1\", element=\"A2E44220C1B9AA2491B46982A4EC25A6_element_125\")>, <selenium.webdriver.remote.webelement.WebElement (session=\"0392247415f9a864d64abd99e25c2dc1\", element=\"A2E44220C1B9AA2491B46982A4EC25A6_element_126\")>, <selenium.webdriver.remote.webelement.WebElement (session=\"0392247415f9a864d64abd99e25c2dc1\", element=\"A2E44220C1B9AA2491B46982A4EC25A6_element_127\")>, <selenium.webdriver.remote.webelement.WebElement (session=\"0392247415f9a864d64abd99e25c2dc1\", element=\"A2E44220C1B9AA2491B46982A4EC25A6_element_128\")>, <selenium.webdriver.remote.webelement.WebElement (session=\"0392247415f9a864d64abd99e25c2dc1\", element=\"A2E44220C1B9AA2491B46982A4EC25A6_element_129\")>, <selenium.webdriver.remote.webelement.WebElement (session=\"0392247415f9a864d64abd99e25c2dc1\", element=\"A2E44220C1B9AA2491B46982A4EC25A6_element_130\")>, <selenium.webdriver.remote.webelement.WebElement (session=\"0392247415f9a864d64abd99e25c2dc1\", element=\"A2E44220C1B9AA2491B46982A4EC25A6_element_131\")>, <selenium.webdriver.remote.webelement.WebElement (session=\"0392247415f9a864d64abd99e25c2dc1\", element=\"A2E44220C1B9AA2491B46982A4EC25A6_element_132\")>, <selenium.webdriver.remote.webelement.WebElement (session=\"0392247415f9a864d64abd99e25c2dc1\", element=\"A2E44220C1B9AA2491B46982A4EC25A6_element_133\")>, <selenium.webdriver.remote.webelement.WebElement (session=\"0392247415f9a864d64abd99e25c2dc1\", element=\"A2E44220C1B9AA2491B46982A4EC25A6_element_134\")>, <selenium.webdriver.remote.webelement.WebElement (session=\"0392247415f9a864d64abd99e25c2dc1\", element=\"A2E44220C1B9AA2491B46982A4EC25A6_element_135\")>, <selenium.webdriver.remote.webelement.WebElement (session=\"0392247415f9a864d64abd99e25c2dc1\", element=\"A2E44220C1B9AA2491B46982A4EC25A6_element_136\")>, <selenium.webdriver.remote.webelement.WebElement (session=\"0392247415f9a864d64abd99e25c2dc1\", element=\"A2E44220C1B9AA2491B46982A4EC25A6_element_137\")>, <selenium.webdriver.remote.webelement.WebElement (session=\"0392247415f9a864d64abd99e25c2dc1\", element=\"A2E44220C1B9AA2491B46982A4EC25A6_element_138\")>, <selenium.webdriver.remote.webelement.WebElement (session=\"0392247415f9a864d64abd99e25c2dc1\", element=\"A2E44220C1B9AA2491B46982A4EC25A6_element_139\")>, <selenium.webdriver.remote.webelement.WebElement (session=\"0392247415f9a864d64abd99e25c2dc1\", element=\"A2E44220C1B9AA2491B46982A4EC25A6_element_140\")>, <selenium.webdriver.remote.webelement.WebElement (session=\"0392247415f9a864d64abd99e25c2dc1\", element=\"A2E44220C1B9AA2491B46982A4EC25A6_element_141\")>, <selenium.webdriver.remote.webelement.WebElement (session=\"0392247415f9a864d64abd99e25c2dc1\", element=\"A2E44220C1B9AA2491B46982A4EC25A6_element_142\")>, <selenium.webdriver.remote.webelement.WebElement (session=\"0392247415f9a864d64abd99e25c2dc1\", element=\"A2E44220C1B9AA2491B46982A4EC25A6_element_143\")>, <selenium.webdriver.remote.webelement.WebElement (session=\"0392247415f9a864d64abd99e25c2dc1\", element=\"A2E44220C1B9AA2491B46982A4EC25A6_element_144\")>]\n",
      "<selenium.webdriver.remote.webelement.WebElement (session=\"0392247415f9a864d64abd99e25c2dc1\", element=\"A2E44220C1B9AA2491B46982A4EC25A6_element_107\")>\n",
      "Twinkling Watermelon\n",
      "Timeout error occured: \n",
      "moving on to next page\n",
      "Genres: Romance, Youth, Drama, Fantasy\n",
      "error occured: \n",
      "Starting Driver\n",
      "[<selenium.webdriver.remote.webelement.WebElement (session=\"0392247415f9a864d64abd99e25c2dc1\", element=\"DC9EADB6B1DE1574F24FDEB40C80FB8E_element_229\")>, <selenium.webdriver.remote.webelement.WebElement (session=\"0392247415f9a864d64abd99e25c2dc1\", element=\"DC9EADB6B1DE1574F24FDEB40C80FB8E_element_192\")>, <selenium.webdriver.remote.webelement.WebElement (session=\"0392247415f9a864d64abd99e25c2dc1\", element=\"DC9EADB6B1DE1574F24FDEB40C80FB8E_element_230\")>, <selenium.webdriver.remote.webelement.WebElement (session=\"0392247415f9a864d64abd99e25c2dc1\", element=\"DC9EADB6B1DE1574F24FDEB40C80FB8E_element_195\")>, <selenium.webdriver.remote.webelement.WebElement (session=\"0392247415f9a864d64abd99e25c2dc1\", element=\"DC9EADB6B1DE1574F24FDEB40C80FB8E_element_231\")>, <selenium.webdriver.remote.webelement.WebElement (session=\"0392247415f9a864d64abd99e25c2dc1\", element=\"DC9EADB6B1DE1574F24FDEB40C80FB8E_element_232\")>, <selenium.webdriver.remote.webelement.WebElement (session=\"0392247415f9a864d64abd99e25c2dc1\", element=\"DC9EADB6B1DE1574F24FDEB40C80FB8E_element_233\")>, <selenium.webdriver.remote.webelement.WebElement (session=\"0392247415f9a864d64abd99e25c2dc1\", element=\"DC9EADB6B1DE1574F24FDEB40C80FB8E_element_234\")>, <selenium.webdriver.remote.webelement.WebElement (session=\"0392247415f9a864d64abd99e25c2dc1\", element=\"DC9EADB6B1DE1574F24FDEB40C80FB8E_element_235\")>, <selenium.webdriver.remote.webelement.WebElement (session=\"0392247415f9a864d64abd99e25c2dc1\", element=\"DC9EADB6B1DE1574F24FDEB40C80FB8E_element_236\")>, <selenium.webdriver.remote.webelement.WebElement (session=\"0392247415f9a864d64abd99e25c2dc1\", element=\"DC9EADB6B1DE1574F24FDEB40C80FB8E_element_237\")>, <selenium.webdriver.remote.webelement.WebElement (session=\"0392247415f9a864d64abd99e25c2dc1\", element=\"DC9EADB6B1DE1574F24FDEB40C80FB8E_element_238\")>, <selenium.webdriver.remote.webelement.WebElement (session=\"0392247415f9a864d64abd99e25c2dc1\", element=\"DC9EADB6B1DE1574F24FDEB40C80FB8E_element_239\")>, <selenium.webdriver.remote.webelement.WebElement (session=\"0392247415f9a864d64abd99e25c2dc1\", element=\"DC9EADB6B1DE1574F24FDEB40C80FB8E_element_240\")>, <selenium.webdriver.remote.webelement.WebElement (session=\"0392247415f9a864d64abd99e25c2dc1\", element=\"DC9EADB6B1DE1574F24FDEB40C80FB8E_element_241\")>, <selenium.webdriver.remote.webelement.WebElement (session=\"0392247415f9a864d64abd99e25c2dc1\", element=\"DC9EADB6B1DE1574F24FDEB40C80FB8E_element_242\")>, <selenium.webdriver.remote.webelement.WebElement (session=\"0392247415f9a864d64abd99e25c2dc1\", element=\"DC9EADB6B1DE1574F24FDEB40C80FB8E_element_243\")>, <selenium.webdriver.remote.webelement.WebElement (session=\"0392247415f9a864d64abd99e25c2dc1\", element=\"DC9EADB6B1DE1574F24FDEB40C80FB8E_element_244\")>, <selenium.webdriver.remote.webelement.WebElement (session=\"0392247415f9a864d64abd99e25c2dc1\", element=\"DC9EADB6B1DE1574F24FDEB40C80FB8E_element_245\")>, <selenium.webdriver.remote.webelement.WebElement (session=\"0392247415f9a864d64abd99e25c2dc1\", element=\"DC9EADB6B1DE1574F24FDEB40C80FB8E_element_246\")>, <selenium.webdriver.remote.webelement.WebElement (session=\"0392247415f9a864d64abd99e25c2dc1\", element=\"DC9EADB6B1DE1574F24FDEB40C80FB8E_element_247\")>, <selenium.webdriver.remote.webelement.WebElement (session=\"0392247415f9a864d64abd99e25c2dc1\", element=\"DC9EADB6B1DE1574F24FDEB40C80FB8E_element_248\")>, <selenium.webdriver.remote.webelement.WebElement (session=\"0392247415f9a864d64abd99e25c2dc1\", element=\"DC9EADB6B1DE1574F24FDEB40C80FB8E_element_249\")>, <selenium.webdriver.remote.webelement.WebElement (session=\"0392247415f9a864d64abd99e25c2dc1\", element=\"DC9EADB6B1DE1574F24FDEB40C80FB8E_element_250\")>, <selenium.webdriver.remote.webelement.WebElement (session=\"0392247415f9a864d64abd99e25c2dc1\", element=\"DC9EADB6B1DE1574F24FDEB40C80FB8E_element_251\")>, <selenium.webdriver.remote.webelement.WebElement (session=\"0392247415f9a864d64abd99e25c2dc1\", element=\"DC9EADB6B1DE1574F24FDEB40C80FB8E_element_252\")>, <selenium.webdriver.remote.webelement.WebElement (session=\"0392247415f9a864d64abd99e25c2dc1\", element=\"DC9EADB6B1DE1574F24FDEB40C80FB8E_element_253\")>, <selenium.webdriver.remote.webelement.WebElement (session=\"0392247415f9a864d64abd99e25c2dc1\", element=\"DC9EADB6B1DE1574F24FDEB40C80FB8E_element_254\")>, <selenium.webdriver.remote.webelement.WebElement (session=\"0392247415f9a864d64abd99e25c2dc1\", element=\"DC9EADB6B1DE1574F24FDEB40C80FB8E_element_255\")>, <selenium.webdriver.remote.webelement.WebElement (session=\"0392247415f9a864d64abd99e25c2dc1\", element=\"DC9EADB6B1DE1574F24FDEB40C80FB8E_element_256\")>, <selenium.webdriver.remote.webelement.WebElement (session=\"0392247415f9a864d64abd99e25c2dc1\", element=\"DC9EADB6B1DE1574F24FDEB40C80FB8E_element_257\")>, <selenium.webdriver.remote.webelement.WebElement (session=\"0392247415f9a864d64abd99e25c2dc1\", element=\"DC9EADB6B1DE1574F24FDEB40C80FB8E_element_258\")>, <selenium.webdriver.remote.webelement.WebElement (session=\"0392247415f9a864d64abd99e25c2dc1\", element=\"DC9EADB6B1DE1574F24FDEB40C80FB8E_element_259\")>, <selenium.webdriver.remote.webelement.WebElement (session=\"0392247415f9a864d64abd99e25c2dc1\", element=\"DC9EADB6B1DE1574F24FDEB40C80FB8E_element_260\")>, <selenium.webdriver.remote.webelement.WebElement (session=\"0392247415f9a864d64abd99e25c2dc1\", element=\"DC9EADB6B1DE1574F24FDEB40C80FB8E_element_261\")>, <selenium.webdriver.remote.webelement.WebElement (session=\"0392247415f9a864d64abd99e25c2dc1\", element=\"DC9EADB6B1DE1574F24FDEB40C80FB8E_element_262\")>, <selenium.webdriver.remote.webelement.WebElement (session=\"0392247415f9a864d64abd99e25c2dc1\", element=\"DC9EADB6B1DE1574F24FDEB40C80FB8E_element_263\")>, <selenium.webdriver.remote.webelement.WebElement (session=\"0392247415f9a864d64abd99e25c2dc1\", element=\"DC9EADB6B1DE1574F24FDEB40C80FB8E_element_264\")>, <selenium.webdriver.remote.webelement.WebElement (session=\"0392247415f9a864d64abd99e25c2dc1\", element=\"DC9EADB6B1DE1574F24FDEB40C80FB8E_element_265\")>, <selenium.webdriver.remote.webelement.WebElement (session=\"0392247415f9a864d64abd99e25c2dc1\", element=\"DC9EADB6B1DE1574F24FDEB40C80FB8E_element_266\")>]\n",
      "<selenium.webdriver.remote.webelement.WebElement (session=\"0392247415f9a864d64abd99e25c2dc1\", element=\"DC9EADB6B1DE1574F24FDEB40C80FB8E_element_192\")>\n",
      "\n",
      "moving on to next page\n"
     ]
    },
    {
     "ename": "NoSuchElementException",
     "evalue": "Message: no such element: Unable to locate element: {\"method\":\"css selector\",\"selector\":\".show-genres\"}\n  (Session info: chrome=119.0.6045.199); For documentation on this error, please visit: https://www.selenium.dev/documentation/webdriver/troubleshooting/errors#no-such-element-exception\nStacktrace:\n0   chromedriver                        0x000000010da6fd28 chromedriver + 4795688\n1   chromedriver                        0x000000010da672b3 chromedriver + 4760243\n2   chromedriver                        0x000000010d64088d chromedriver + 407693\n3   chromedriver                        0x000000010d68f3d9 chromedriver + 730073\n4   chromedriver                        0x000000010d68f591 chromedriver + 730513\n5   chromedriver                        0x000000010d6d57e4 chromedriver + 1017828\n6   chromedriver                        0x000000010d6b6ccd chromedriver + 892109\n7   chromedriver                        0x000000010d6d2b2b chromedriver + 1006379\n8   chromedriver                        0x000000010d6b6a73 chromedriver + 891507\n9   chromedriver                        0x000000010d681143 chromedriver + 672067\n10  chromedriver                        0x000000010d68231e chromedriver + 676638\n11  chromedriver                        0x000000010da30795 chromedriver + 4536213\n12  chromedriver                        0x000000010da35853 chromedriver + 4556883\n13  chromedriver                        0x000000010da16001 chromedriver + 4427777\n14  chromedriver                        0x000000010da3659d chromedriver + 4560285\n15  chromedriver                        0x000000010da0748c chromedriver + 4367500\n16  chromedriver                        0x000000010da560e8 chromedriver + 4690152\n17  chromedriver                        0x000000010da5629e chromedriver + 4690590\n18  chromedriver                        0x000000010da66eee chromedriver + 4759278\n19  libsystem_pthread.dylib             0x00007ff80291f4e1 _pthread_start + 125\n20  libsystem_pthread.dylib             0x00007ff80291af6b thread_start + 15\n",
     "output_type": "error",
     "traceback": [
      "\u001b[0;31m---------------------------------------------------------------------------\u001b[0m",
      "\u001b[0;31mNoSuchElementException\u001b[0m                    Traceback (most recent call last)",
      "Cell \u001b[0;32mIn[39], line 46\u001b[0m\n\u001b[1;32m     39\u001b[0m         genres\u001b[39m.\u001b[39mappend(genres_section\u001b[39m.\u001b[39mtext)\n\u001b[1;32m     41\u001b[0m         \u001b[39m# try:\u001b[39;00m\n\u001b[1;32m     42\u001b[0m         \u001b[39m#     driver.execute_script(\"window.history.go(-1)\")\u001b[39;00m\n\u001b[1;32m     43\u001b[0m         \u001b[39m# except TimeoutException as error:\u001b[39;00m\n\u001b[1;32m     44\u001b[0m         \u001b[39m#     print(\"timeout error\")\u001b[39;00m\n\u001b[0;32m---> 46\u001b[0m initialize_browser()\n",
      "Cell \u001b[0;32mIn[39], line 37\u001b[0m, in \u001b[0;36minitialize_browser\u001b[0;34m()\u001b[0m\n\u001b[1;32m     34\u001b[0m     \u001b[39mprint\u001b[39m(\u001b[39m\"\u001b[39m\u001b[39mTimeout error occured: \u001b[39m\u001b[39m\"\u001b[39m)   \n\u001b[1;32m     35\u001b[0m \u001b[39mprint\u001b[39m(\u001b[39m'\u001b[39m\u001b[39mmoving on to next page\u001b[39m\u001b[39m'\u001b[39m)\n\u001b[0;32m---> 37\u001b[0m genres_section \u001b[39m=\u001b[39m driver\u001b[39m.\u001b[39mfind_element(by\u001b[39m=\u001b[39mBy\u001b[39m.\u001b[39mCLASS_NAME, value\u001b[39m=\u001b[39m\u001b[39m'\u001b[39m\u001b[39mshow-genres\u001b[39m\u001b[39m'\u001b[39m)\n\u001b[1;32m     38\u001b[0m \u001b[39mprint\u001b[39m(genres_section\u001b[39m.\u001b[39mtext)        \n\u001b[1;32m     39\u001b[0m genres\u001b[39m.\u001b[39mappend(genres_section\u001b[39m.\u001b[39mtext)\n",
      "File \u001b[0;32m~/anaconda3/envs/new386/lib/python3.11/site-packages/selenium/webdriver/remote/webdriver.py:741\u001b[0m, in \u001b[0;36mWebDriver.find_element\u001b[0;34m(self, by, value)\u001b[0m\n\u001b[1;32m    738\u001b[0m     by \u001b[39m=\u001b[39m By\u001b[39m.\u001b[39mCSS_SELECTOR\n\u001b[1;32m    739\u001b[0m     value \u001b[39m=\u001b[39m \u001b[39mf\u001b[39m\u001b[39m'\u001b[39m\u001b[39m[name=\u001b[39m\u001b[39m\"\u001b[39m\u001b[39m{\u001b[39;00mvalue\u001b[39m}\u001b[39;00m\u001b[39m\"\u001b[39m\u001b[39m]\u001b[39m\u001b[39m'\u001b[39m\n\u001b[0;32m--> 741\u001b[0m \u001b[39mreturn\u001b[39;00m \u001b[39mself\u001b[39m\u001b[39m.\u001b[39mexecute(Command\u001b[39m.\u001b[39mFIND_ELEMENT, {\u001b[39m\"\u001b[39m\u001b[39musing\u001b[39m\u001b[39m\"\u001b[39m: by, \u001b[39m\"\u001b[39m\u001b[39mvalue\u001b[39m\u001b[39m\"\u001b[39m: value})[\u001b[39m\"\u001b[39m\u001b[39mvalue\u001b[39m\u001b[39m\"\u001b[39m]\n",
      "File \u001b[0;32m~/anaconda3/envs/new386/lib/python3.11/site-packages/selenium/webdriver/remote/webdriver.py:347\u001b[0m, in \u001b[0;36mWebDriver.execute\u001b[0;34m(self, driver_command, params)\u001b[0m\n\u001b[1;32m    345\u001b[0m response \u001b[39m=\u001b[39m \u001b[39mself\u001b[39m\u001b[39m.\u001b[39mcommand_executor\u001b[39m.\u001b[39mexecute(driver_command, params)\n\u001b[1;32m    346\u001b[0m \u001b[39mif\u001b[39;00m response:\n\u001b[0;32m--> 347\u001b[0m     \u001b[39mself\u001b[39m\u001b[39m.\u001b[39merror_handler\u001b[39m.\u001b[39mcheck_response(response)\n\u001b[1;32m    348\u001b[0m     response[\u001b[39m\"\u001b[39m\u001b[39mvalue\u001b[39m\u001b[39m\"\u001b[39m] \u001b[39m=\u001b[39m \u001b[39mself\u001b[39m\u001b[39m.\u001b[39m_unwrap_value(response\u001b[39m.\u001b[39mget(\u001b[39m\"\u001b[39m\u001b[39mvalue\u001b[39m\u001b[39m\"\u001b[39m, \u001b[39mNone\u001b[39;00m))\n\u001b[1;32m    349\u001b[0m     \u001b[39mreturn\u001b[39;00m response\n",
      "File \u001b[0;32m~/anaconda3/envs/new386/lib/python3.11/site-packages/selenium/webdriver/remote/errorhandler.py:229\u001b[0m, in \u001b[0;36mErrorHandler.check_response\u001b[0;34m(self, response)\u001b[0m\n\u001b[1;32m    227\u001b[0m         alert_text \u001b[39m=\u001b[39m value[\u001b[39m\"\u001b[39m\u001b[39malert\u001b[39m\u001b[39m\"\u001b[39m]\u001b[39m.\u001b[39mget(\u001b[39m\"\u001b[39m\u001b[39mtext\u001b[39m\u001b[39m\"\u001b[39m)\n\u001b[1;32m    228\u001b[0m     \u001b[39mraise\u001b[39;00m exception_class(message, screen, stacktrace, alert_text)  \u001b[39m# type: ignore[call-arg]  # mypy is not smart enough here\u001b[39;00m\n\u001b[0;32m--> 229\u001b[0m \u001b[39mraise\u001b[39;00m exception_class(message, screen, stacktrace)\n",
      "\u001b[0;31mNoSuchElementException\u001b[0m: Message: no such element: Unable to locate element: {\"method\":\"css selector\",\"selector\":\".show-genres\"}\n  (Session info: chrome=119.0.6045.199); For documentation on this error, please visit: https://www.selenium.dev/documentation/webdriver/troubleshooting/errors#no-such-element-exception\nStacktrace:\n0   chromedriver                        0x000000010da6fd28 chromedriver + 4795688\n1   chromedriver                        0x000000010da672b3 chromedriver + 4760243\n2   chromedriver                        0x000000010d64088d chromedriver + 407693\n3   chromedriver                        0x000000010d68f3d9 chromedriver + 730073\n4   chromedriver                        0x000000010d68f591 chromedriver + 730513\n5   chromedriver                        0x000000010d6d57e4 chromedriver + 1017828\n6   chromedriver                        0x000000010d6b6ccd chromedriver + 892109\n7   chromedriver                        0x000000010d6d2b2b chromedriver + 1006379\n8   chromedriver                        0x000000010d6b6a73 chromedriver + 891507\n9   chromedriver                        0x000000010d681143 chromedriver + 672067\n10  chromedriver                        0x000000010d68231e chromedriver + 676638\n11  chromedriver                        0x000000010da30795 chromedriver + 4536213\n12  chromedriver                        0x000000010da35853 chromedriver + 4556883\n13  chromedriver                        0x000000010da16001 chromedriver + 4427777\n14  chromedriver                        0x000000010da3659d chromedriver + 4560285\n15  chromedriver                        0x000000010da0748c chromedriver + 4367500\n16  chromedriver                        0x000000010da560e8 chromedriver + 4690152\n17  chromedriver                        0x000000010da5629e chromedriver + 4690590\n18  chromedriver                        0x000000010da66eee chromedriver + 4759278\n19  libsystem_pthread.dylib             0x00007ff80291f4e1 _pthread_start + 125\n20  libsystem_pthread.dylib             0x00007ff80291af6b thread_start + 15\n"
     ]
    }
   ],
   "source": [
    "# new attempt\n",
    "import time\n",
    "genres = []\n",
    "def initialize_browser():\n",
    "    driver = webdriver.Chrome(service=ChromeService(ChromeDriverManager().install()))\n",
    "    driver.set_page_load_timeout(10)\n",
    "    \n",
    "    try:\n",
    "        driver.get(url)\n",
    "    except TimeoutException as error:\n",
    "        print(\"error occured: \")   \n",
    "    print('Starting Driver')\n",
    "    \n",
    "\n",
    "    for i in range(20):\n",
    "        try:\n",
    "            driver.get(url)\n",
    "        except TimeoutException as error:\n",
    "            print(\"error occured: \")   \n",
    "        print('Starting Driver')\n",
    "\n",
    "        title_elements = driver.find_elements(by=By.CSS_SELECTOR, value='h6.title a')\n",
    "        print(title_elements)\n",
    "        time.sleep(5)\n",
    "        title_element = title_elements[i]\n",
    "        print(title_element)\n",
    "        print(title_element.text)\n",
    "        try:\n",
    "            driver.execute_script(\"arguments[0].scrollIntoView();\", title_element)\n",
    "            driver.execute_script(\"window.scrollBy(0, arguments[0]);\", -100)\n",
    "            time.sleep(2)\n",
    "            title_element.click()\n",
    "        except TimeoutException as error:\n",
    "            print(\"Timeout error occured: \")   \n",
    "        print('moving on to next page')\n",
    "\n",
    "        genres_section = driver.find_element(by=By.CLASS_NAME, value='show-genres')\n",
    "        print(genres_section.text)        \n",
    "        genres.append(genres_section.text)\n",
    "\n",
    "        # try:\n",
    "        #     driver.execute_script(\"window.history.go(-1)\")\n",
    "        # except TimeoutException as error:\n",
    "        #     print(\"timeout error\")\n",
    "    \n",
    "initialize_browser()"
   ]
  }
 ],
 "metadata": {
  "kernelspec": {
   "display_name": "new386",
   "language": "python",
   "name": "python3"
  },
  "language_info": {
   "codemirror_mode": {
    "name": "ipython",
    "version": 3
   },
   "file_extension": ".py",
   "mimetype": "text/x-python",
   "name": "python",
   "nbconvert_exporter": "python",
   "pygments_lexer": "ipython3",
   "version": "3.11.5"
  },
  "orig_nbformat": 4
 },
 "nbformat": 4,
 "nbformat_minor": 2
}
