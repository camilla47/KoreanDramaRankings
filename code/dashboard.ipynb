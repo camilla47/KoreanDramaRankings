{
 "cells": [
  {
   "cell_type": "markdown",
   "metadata": {},
   "source": [
    "here is the code from lab 10"
   ]
  },
  {
   "cell_type": "code",
   "execution_count": 8,
   "metadata": {},
   "outputs": [
    {
     "data": {
      "text/plain": [
       "DeltaGenerator()"
      ]
     },
     "execution_count": 8,
     "metadata": {},
     "output_type": "execute_result"
    }
   ],
   "source": [
    "import os\n",
    "#os.system(\"conda activate new386\")\n",
    "import pandas as pd\n",
    "import numpy as np\n",
    "import streamlit as st\n",
    "import plotly.express as px\n",
    "\n",
    "st.title('All the Drama')\n",
    "df = pd.read_csv('mdl_final.csv')\n",
    "\n",
    "selected_year = st.selectbox('Select a year', df['year'].unique())\n",
    "year_df = df[df['year'] == selected_year]\n",
    "\n",
    "# Sorting and selecting top 5 names for the selected year\n",
    "top_names = year_df.sort_values(by='viewer_score', ascending=False).head(5)[['title', 'viewer_score']]\n",
    "top_names.reset_index(drop=True, inplace=True)\n",
    "top_names = top_names.rename(columns={'title': 'Show Title', 'viewer_score': 'Score (out of 10)'})\n",
    "\n",
    "# Display the top shows for the selected year\n",
    "st.write(f\"Top Shows in {selected_year}\")\n",
    "st.dataframe(top_names)\n",
    "\n",
    "\n",
    "\n"
   ]
  },
  {
   "cell_type": "code",
   "execution_count": 9,
   "metadata": {},
   "outputs": [
    {
     "data": {
      "text/html": [
       "<div>\n",
       "<style scoped>\n",
       "    .dataframe tbody tr th:only-of-type {\n",
       "        vertical-align: middle;\n",
       "    }\n",
       "\n",
       "    .dataframe tbody tr th {\n",
       "        vertical-align: top;\n",
       "    }\n",
       "\n",
       "    .dataframe thead th {\n",
       "        text-align: right;\n",
       "    }\n",
       "</style>\n",
       "<table border=\"1\" class=\"dataframe\">\n",
       "  <thead>\n",
       "    <tr style=\"text-align: right;\">\n",
       "      <th></th>\n",
       "      <th>title</th>\n",
       "      <th>viewer_score</th>\n",
       "    </tr>\n",
       "  </thead>\n",
       "  <tbody>\n",
       "    <tr>\n",
       "      <th>0</th>\n",
       "      <td>Twinkling Watermelon</td>\n",
       "      <td>9.2</td>\n",
       "    </tr>\n",
       "    <tr>\n",
       "      <th>1</th>\n",
       "      <td>Moving</td>\n",
       "      <td>9.1</td>\n",
       "    </tr>\n",
       "    <tr>\n",
       "      <th>2</th>\n",
       "      <td>The Glory Part 2</td>\n",
       "      <td>9.0</td>\n",
       "    </tr>\n",
       "    <tr>\n",
       "      <th>3</th>\n",
       "      <td>Dr. Romantic Season 3</td>\n",
       "      <td>9.0</td>\n",
       "    </tr>\n",
       "    <tr>\n",
       "      <th>4</th>\n",
       "      <td>Oh No! Here Comes Trouble</td>\n",
       "      <td>9.0</td>\n",
       "    </tr>\n",
       "  </tbody>\n",
       "</table>\n",
       "</div>"
      ],
      "text/plain": [
       "                       title  viewer_score\n",
       "0       Twinkling Watermelon           9.2\n",
       "1                     Moving           9.1\n",
       "2           The Glory Part 2           9.0\n",
       "3      Dr. Romantic Season 3           9.0\n",
       "4  Oh No! Here Comes Trouble           9.0"
      ]
     },
     "execution_count": 9,
     "metadata": {},
     "output_type": "execute_result"
    }
   ],
   "source": [
    "top_names\n"
   ]
  }
 ],
 "metadata": {
  "kernelspec": {
   "display_name": "new386",
   "language": "python",
   "name": "python3"
  },
  "language_info": {
   "codemirror_mode": {
    "name": "ipython",
    "version": 3
   },
   "file_extension": ".py",
   "mimetype": "text/x-python",
   "name": "python",
   "nbconvert_exporter": "python",
   "pygments_lexer": "ipython3",
   "version": "3.11.5"
  },
  "orig_nbformat": 4
 },
 "nbformat": 4,
 "nbformat_minor": 2
}
