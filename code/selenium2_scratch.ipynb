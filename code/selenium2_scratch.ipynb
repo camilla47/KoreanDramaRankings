{
 "cells": [
  {
   "cell_type": "code",
   "execution_count": 2,
   "metadata": {},
   "outputs": [],
   "source": [
    "from selenium import webdriver\n",
    "from selenium.webdriver.common.by import By\n",
    "from selenium.webdriver.chrome.options import Options\n",
    "from selenium.webdriver.chrome.service import Service as ChromeService\n",
    "from webdriver_manager.chrome import ChromeDriverManager\n",
    "from selenium.webdriver.support.ui import WebDriverWait\n",
    "from selenium.webdriver.support import expected_conditions as EC\n",
    "from selenium.common.exceptions import TimeoutException\n",
    "from selenium.common.exceptions import NoSuchElementException\n",
    "\n",
    "import time"
   ]
  },
  {
   "cell_type": "markdown",
   "metadata": {},
   "source": [
    "I am now going to try and scrape the other elements besides genre\n",
    "\n",
    "ask ryan for help trying to identify where network and watchers are"
   ]
  },
  {
   "cell_type": "code",
   "execution_count": 3,
   "metadata": {},
   "outputs": [
    {
     "name": "stdout",
     "output_type": "stream",
     "text": [
      "timeout error- getting url\n"
     ]
    },
    {
     "ename": "NoSuchElementException",
     "evalue": "Message: no such element: Unable to locate element: {\"method\":\"css selector\",\"selector\":\"h6.title a\"}\n  (Session info: chrome=119.0.6045.199); For documentation on this error, please visit: https://www.selenium.dev/documentation/webdriver/troubleshooting/errors#no-such-element-exception\nStacktrace:\n0   chromedriver                        0x0000000106e90d28 chromedriver + 4795688\n1   chromedriver                        0x0000000106e882b3 chromedriver + 4760243\n2   chromedriver                        0x0000000106a6188d chromedriver + 407693\n3   chromedriver                        0x0000000106ab03d9 chromedriver + 730073\n4   chromedriver                        0x0000000106ab0591 chromedriver + 730513\n5   chromedriver                        0x0000000106af67e4 chromedriver + 1017828\n6   chromedriver                        0x0000000106ad7ccd chromedriver + 892109\n7   chromedriver                        0x0000000106af3b2b chromedriver + 1006379\n8   chromedriver                        0x0000000106ad7a73 chromedriver + 891507\n9   chromedriver                        0x0000000106aa2143 chromedriver + 672067\n10  chromedriver                        0x0000000106aa331e chromedriver + 676638\n11  chromedriver                        0x0000000106e51795 chromedriver + 4536213\n12  chromedriver                        0x0000000106e56853 chromedriver + 4556883\n13  chromedriver                        0x0000000106e37001 chromedriver + 4427777\n14  chromedriver                        0x0000000106e5759d chromedriver + 4560285\n15  chromedriver                        0x0000000106e2848c chromedriver + 4367500\n16  chromedriver                        0x0000000106e770e8 chromedriver + 4690152\n17  chromedriver                        0x0000000106e7729e chromedriver + 4690590\n18  chromedriver                        0x0000000106e87eee chromedriver + 4759278\n19  libsystem_pthread.dylib             0x00007ff80291f4e1 _pthread_start + 125\n20  libsystem_pthread.dylib             0x00007ff80291af6b thread_start + 15\n",
     "output_type": "error",
     "traceback": [
      "\u001b[0;31m---------------------------------------------------------------------------\u001b[0m",
      "\u001b[0;31mNoSuchElementException\u001b[0m                    Traceback (most recent call last)",
      "Cell \u001b[0;32mIn[3], line 76\u001b[0m\n\u001b[1;32m     64\u001b[0m \u001b[39m    \u001b[39m\u001b[39m'''\u001b[39;00m\n\u001b[1;32m     65\u001b[0m \u001b[39m        ## scrape the watchers\u001b[39;00m\n\u001b[1;32m     66\u001b[0m \u001b[39m        print(\"Searching for watchers...\")\u001b[39;00m\n\u001b[0;32m   (...)\u001b[0m\n\u001b[1;32m     72\u001b[0m \u001b[39m            print(\"Watchers not found\")\u001b[39;00m\n\u001b[1;32m     73\u001b[0m \u001b[39m    '''\u001b[39;00m\n\u001b[1;32m     74\u001b[0m     driver\u001b[39m.\u001b[39mquit()        \n\u001b[0;32m---> 76\u001b[0m initialize_browser2()\n",
      "Cell \u001b[0;32mIn[3], line 18\u001b[0m, in \u001b[0;36minitialize_browser2\u001b[0;34m()\u001b[0m\n\u001b[1;32m     15\u001b[0m     \u001b[39mprint\u001b[39m(\u001b[39m\"\u001b[39m\u001b[39mtimeout error- getting url\u001b[39m\u001b[39m\"\u001b[39m)   \n\u001b[1;32m     16\u001b[0m \u001b[39m#print('Starting Driver')\u001b[39;00m\n\u001b[0;32m---> 18\u001b[0m title_element \u001b[39m=\u001b[39m driver\u001b[39m.\u001b[39mfind_element(by\u001b[39m=\u001b[39mBy\u001b[39m.\u001b[39mCSS_SELECTOR, value\u001b[39m=\u001b[39m\u001b[39m'\u001b[39m\u001b[39mh6.title a\u001b[39m\u001b[39m'\u001b[39m)\n\u001b[1;32m     19\u001b[0m \u001b[39mprint\u001b[39m(title_element\u001b[39m.\u001b[39mtext)\n\u001b[1;32m     21\u001b[0m \u001b[39m## click to the show's page\u001b[39;00m\n",
      "File \u001b[0;32m~/anaconda3/envs/new386/lib/python3.11/site-packages/selenium/webdriver/remote/webdriver.py:741\u001b[0m, in \u001b[0;36mWebDriver.find_element\u001b[0;34m(self, by, value)\u001b[0m\n\u001b[1;32m    738\u001b[0m     by \u001b[39m=\u001b[39m By\u001b[39m.\u001b[39mCSS_SELECTOR\n\u001b[1;32m    739\u001b[0m     value \u001b[39m=\u001b[39m \u001b[39mf\u001b[39m\u001b[39m'\u001b[39m\u001b[39m[name=\u001b[39m\u001b[39m\"\u001b[39m\u001b[39m{\u001b[39;00mvalue\u001b[39m}\u001b[39;00m\u001b[39m\"\u001b[39m\u001b[39m]\u001b[39m\u001b[39m'\u001b[39m\n\u001b[0;32m--> 741\u001b[0m \u001b[39mreturn\u001b[39;00m \u001b[39mself\u001b[39m\u001b[39m.\u001b[39mexecute(Command\u001b[39m.\u001b[39mFIND_ELEMENT, {\u001b[39m\"\u001b[39m\u001b[39musing\u001b[39m\u001b[39m\"\u001b[39m: by, \u001b[39m\"\u001b[39m\u001b[39mvalue\u001b[39m\u001b[39m\"\u001b[39m: value})[\u001b[39m\"\u001b[39m\u001b[39mvalue\u001b[39m\u001b[39m\"\u001b[39m]\n",
      "File \u001b[0;32m~/anaconda3/envs/new386/lib/python3.11/site-packages/selenium/webdriver/remote/webdriver.py:347\u001b[0m, in \u001b[0;36mWebDriver.execute\u001b[0;34m(self, driver_command, params)\u001b[0m\n\u001b[1;32m    345\u001b[0m response \u001b[39m=\u001b[39m \u001b[39mself\u001b[39m\u001b[39m.\u001b[39mcommand_executor\u001b[39m.\u001b[39mexecute(driver_command, params)\n\u001b[1;32m    346\u001b[0m \u001b[39mif\u001b[39;00m response:\n\u001b[0;32m--> 347\u001b[0m     \u001b[39mself\u001b[39m\u001b[39m.\u001b[39merror_handler\u001b[39m.\u001b[39mcheck_response(response)\n\u001b[1;32m    348\u001b[0m     response[\u001b[39m\"\u001b[39m\u001b[39mvalue\u001b[39m\u001b[39m\"\u001b[39m] \u001b[39m=\u001b[39m \u001b[39mself\u001b[39m\u001b[39m.\u001b[39m_unwrap_value(response\u001b[39m.\u001b[39mget(\u001b[39m\"\u001b[39m\u001b[39mvalue\u001b[39m\u001b[39m\"\u001b[39m, \u001b[39mNone\u001b[39;00m))\n\u001b[1;32m    349\u001b[0m     \u001b[39mreturn\u001b[39;00m response\n",
      "File \u001b[0;32m~/anaconda3/envs/new386/lib/python3.11/site-packages/selenium/webdriver/remote/errorhandler.py:229\u001b[0m, in \u001b[0;36mErrorHandler.check_response\u001b[0;34m(self, response)\u001b[0m\n\u001b[1;32m    227\u001b[0m         alert_text \u001b[39m=\u001b[39m value[\u001b[39m\"\u001b[39m\u001b[39malert\u001b[39m\u001b[39m\"\u001b[39m]\u001b[39m.\u001b[39mget(\u001b[39m\"\u001b[39m\u001b[39mtext\u001b[39m\u001b[39m\"\u001b[39m)\n\u001b[1;32m    228\u001b[0m     \u001b[39mraise\u001b[39;00m exception_class(message, screen, stacktrace, alert_text)  \u001b[39m# type: ignore[call-arg]  # mypy is not smart enough here\u001b[39;00m\n\u001b[0;32m--> 229\u001b[0m \u001b[39mraise\u001b[39;00m exception_class(message, screen, stacktrace)\n",
      "\u001b[0;31mNoSuchElementException\u001b[0m: Message: no such element: Unable to locate element: {\"method\":\"css selector\",\"selector\":\"h6.title a\"}\n  (Session info: chrome=119.0.6045.199); For documentation on this error, please visit: https://www.selenium.dev/documentation/webdriver/troubleshooting/errors#no-such-element-exception\nStacktrace:\n0   chromedriver                        0x0000000106e90d28 chromedriver + 4795688\n1   chromedriver                        0x0000000106e882b3 chromedriver + 4760243\n2   chromedriver                        0x0000000106a6188d chromedriver + 407693\n3   chromedriver                        0x0000000106ab03d9 chromedriver + 730073\n4   chromedriver                        0x0000000106ab0591 chromedriver + 730513\n5   chromedriver                        0x0000000106af67e4 chromedriver + 1017828\n6   chromedriver                        0x0000000106ad7ccd chromedriver + 892109\n7   chromedriver                        0x0000000106af3b2b chromedriver + 1006379\n8   chromedriver                        0x0000000106ad7a73 chromedriver + 891507\n9   chromedriver                        0x0000000106aa2143 chromedriver + 672067\n10  chromedriver                        0x0000000106aa331e chromedriver + 676638\n11  chromedriver                        0x0000000106e51795 chromedriver + 4536213\n12  chromedriver                        0x0000000106e56853 chromedriver + 4556883\n13  chromedriver                        0x0000000106e37001 chromedriver + 4427777\n14  chromedriver                        0x0000000106e5759d chromedriver + 4560285\n15  chromedriver                        0x0000000106e2848c chromedriver + 4367500\n16  chromedriver                        0x0000000106e770e8 chromedriver + 4690152\n17  chromedriver                        0x0000000106e7729e chromedriver + 4690590\n18  chromedriver                        0x0000000106e87eee chromedriver + 4759278\n19  libsystem_pthread.dylib             0x00007ff80291f4e1 _pthread_start + 125\n20  libsystem_pthread.dylib             0x00007ff80291af6b thread_start + 15\n"
     ]
    }
   ],
   "source": [
    "genres = []\n",
    "watchers = []\n",
    "network= []\n",
    "url = 'https://mydramalist.com/shows/top?page=1'\n",
    "\n",
    "def initialize_browser2():\n",
    "    ## create the driver\n",
    "    driver = webdriver.Chrome(service=ChromeService(ChromeDriverManager().install()))\n",
    "    driver.set_page_load_timeout(10)\n",
    "    \n",
    "    ## get the url\n",
    "    try:\n",
    "        driver.get(url)\n",
    "    except TimeoutException as error:\n",
    "        print(\"timeout error- getting url\")   \n",
    "    #print('Starting Driver')\n",
    "\n",
    "    title_element = driver.find_element(by=By.CSS_SELECTOR, value='h6.title a')\n",
    "    print(title_element.text)\n",
    "    \n",
    "    ## click to the show's page\n",
    "    try:\n",
    "        title_element.click()\n",
    "    except TimeoutException as error:\n",
    "        print(\"Timeout error- clicking title \") \n",
    "\n",
    "    ## scrape the genre\n",
    "    #print(\"Searching for genre...\")\n",
    "    '''\n",
    "    try:\n",
    "        genres_section = driver.find_element(By.CLASS_NAME, 'show-genres')\n",
    "        print(genres_section.text)        \n",
    "        genres.append(genres_section.text)\n",
    "    except NoSuchElementException:\n",
    "        print(\"Genre not found\")\n",
    "\n",
    "    print(\"Searching for tags...\")\n",
    "    try:\n",
    "        tag_elements = driver.find_elements(By.CLASS_NAME, \"p-a-0\")\n",
    "        print(tag_elements[6].text)  \n",
    "        #network.append(network_elements[0].text)\n",
    "    except NoSuchElementException:\n",
    "        print(\"tag not found\")\n",
    "    '''\n",
    "    ## scrape the network\n",
    "    print(\"Searching for network...\")\n",
    "    try:\n",
    "        network_elements = driver.find_elements(By.CLASS_NAME, \"p-a-0\")\n",
    "        if network_elements:\n",
    "            # Loop through all elements with class \"p-a-0\"\n",
    "            for element in network_elements:\n",
    "                # Check if the element contains text related to the original network\n",
    "                if \"original network\" in element.text.lower():\n",
    "                    print(\"Original network found:\", element.text)\n",
    "                    # Perform actions or store data related to the original network element here\n",
    "                    break  # Exit loop after finding the first occurrence if needed\n",
    "            else:\n",
    "                print(\"No elements with 'original network' text found in class 'p-a-0'\")\n",
    "        else:\n",
    "            print(\"No elements with class 'p-a-0' found\")\n",
    "    except NoSuchElementException:\n",
    "        print(\"Network elements not found\")\n",
    "\n",
    "    '''\n",
    "        ## scrape the watchers\n",
    "        print(\"Searching for watchers...\")\n",
    "        try:\n",
    "            genres_elements = driver.find_elements(By.CLASS_NAME, \"hfs\")\n",
    "            print(genres_elements[1].text)        \n",
    "            genres.append(genres_elements[1].text)\n",
    "        except NoSuchElementException:\n",
    "            print(\"Watchers not found\")\n",
    "    '''\n",
    "    driver.quit()        \n",
    "\n",
    "initialize_browser2()"
   ]
  },
  {
   "cell_type": "code",
   "execution_count": 3,
   "metadata": {},
   "outputs": [
    {
     "data": {
      "text/plain": [
       "['']"
      ]
     },
     "execution_count": 3,
     "metadata": {},
     "output_type": "execute_result"
    }
   ],
   "source": [
    "network\n"
   ]
  }
 ],
 "metadata": {
  "kernelspec": {
   "display_name": "new386",
   "language": "python",
   "name": "python3"
  },
  "language_info": {
   "codemirror_mode": {
    "name": "ipython",
    "version": 3
   },
   "file_extension": ".py",
   "mimetype": "text/x-python",
   "name": "python",
   "nbconvert_exporter": "python",
   "pygments_lexer": "ipython3",
   "version": "3.11.5"
  },
  "orig_nbformat": 4
 },
 "nbformat": 4,
 "nbformat_minor": 2
}
