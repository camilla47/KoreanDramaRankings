{
 "cells": [
  {
   "cell_type": "code",
   "execution_count": 7,
   "metadata": {},
   "outputs": [],
   "source": [
    "from selenium import webdriver\n",
    "from selenium.webdriver.common.by import By\n",
    "from selenium.webdriver.chrome.options import Options\n",
    "from selenium.webdriver.chrome.service import Service as ChromeService\n",
    "from webdriver_manager.chrome import ChromeDriverManager\n",
    "from selenium.webdriver.support.ui import WebDriverWait\n",
    "from selenium.webdriver.support import expected_conditions as EC\n",
    "from selenium.common.exceptions import TimeoutException\n",
    "from selenium.common.exceptions import NoSuchElementException\n",
    "\n",
    "import time"
   ]
  },
  {
   "cell_type": "markdown",
   "metadata": {},
   "source": [
    "I am now going to try and scrape the other elements besides genre\n",
    "\n",
    "ask ryan for help trying to identify where network and watchers are"
   ]
  },
  {
   "cell_type": "code",
   "execution_count": 18,
   "metadata": {},
   "outputs": [
    {
     "name": "stdout",
     "output_type": "stream",
     "text": [
      "timeout error- getting url\n",
      "Twinkling Watermelon\n",
      "Timeout error- clicking title \n",
      "Genres: Romance, Youth, Drama, Fantasy\n",
      "Searching for network...\n",
      "\n",
      "Searching for network...\n",
      "Ratings: 9.2/10 from 16,074 users\n"
     ]
    }
   ],
   "source": [
    "genres = []\n",
    "watchers = []\n",
    "network= []\n",
    "url = 'https://mydramalist.com/shows/top?page=1'\n",
    "\n",
    "def initialize_browser2():\n",
    "    ## create the driver\n",
    "    driver = webdriver.Chrome(service=ChromeService(ChromeDriverManager().install()))\n",
    "    driver.set_page_load_timeout(10)\n",
    "    \n",
    "    ## get the url\n",
    "    try:\n",
    "        driver.get(url)\n",
    "    except TimeoutException as error:\n",
    "        print(\"timeout error- getting url\")   \n",
    "    #print('Starting Driver')\n",
    "\n",
    "    title_element = driver.find_element(by=By.CSS_SELECTOR, value='h6.title a')\n",
    "    print(title_element.text)\n",
    "    \n",
    "    ## click to the show's page\n",
    "    try:\n",
    "        title_element.click()\n",
    "    except TimeoutException as error:\n",
    "        print(\"Timeout error- clicking title \") \n",
    "\n",
    "    ## scrape the genre\n",
    "    #print(\"Searching for genre...\")\n",
    "    try:\n",
    "        genres_section = driver.find_element(By.CLASS_NAME, 'show-genres')\n",
    "        print(genres_section.text)        \n",
    "        genres.append(genres_section.text)\n",
    "    except NoSuchElementException:\n",
    "        print(\"Genre not found\")\n",
    "\n",
    "    ## scrape the network\n",
    "    print(\"Searching for network...\")\n",
    "    try:\n",
    "        network_element = driver.find_element(By.CLASS_NAME, \"p-a-0\")\n",
    "        print(network_element.text)        \n",
    "        network.append(network_element.text)\n",
    "    except NoSuchElementException:\n",
    "        print(\"Network not found\")\n",
    "\n",
    "    ## scrape the watchers\n",
    "    print(\"Searching for watchers...\")\n",
    "    try:\n",
    "        genres_element = driver.find_element(By.CLASS_NAME, \"hfs\")\n",
    "        print(genres_element.text)        \n",
    "        genres.append(genres_element.text)\n",
    "    except NoSuchElementException:\n",
    "        print(\"Watchers not found\")\n",
    "    driver.quit()        \n",
    "\n",
    "initialize_browser2()"
   ]
  }
 ],
 "metadata": {
  "kernelspec": {
   "display_name": "new386",
   "language": "python",
   "name": "python3"
  },
  "language_info": {
   "codemirror_mode": {
    "name": "ipython",
    "version": 3
   },
   "file_extension": ".py",
   "mimetype": "text/x-python",
   "name": "python",
   "nbconvert_exporter": "python",
   "pygments_lexer": "ipython3",
   "version": "3.11.5"
  },
  "orig_nbformat": 4
 },
 "nbformat": 4,
 "nbformat_minor": 2
}
